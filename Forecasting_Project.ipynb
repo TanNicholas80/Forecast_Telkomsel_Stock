{
  "cells": [
    {
      "cell_type": "markdown",
      "metadata": {
        "id": "view-in-github",
        "colab_type": "text"
      },
      "source": [
        "<a href=\"https://colab.research.google.com/github/TanNicholas80/Forecast_Telkomsel_Stock/blob/main/Forecasting_Project.ipynb\" target=\"_parent\"><img src=\"https://colab.research.google.com/assets/colab-badge.svg\" alt=\"Open In Colab\"/></a>"
      ]
    },
    {
      "cell_type": "code",
      "execution_count": 1,
      "metadata": {
        "colab": {
          "base_uri": "https://localhost:8080/"
        },
        "id": "K7hB2-BZj5y0",
        "outputId": "df6d4342-7274-4e73-f3cf-2ed040875113"
      },
      "outputs": [
        {
          "output_type": "stream",
          "name": "stdout",
          "text": [
            "Drive already mounted at /content/drive; to attempt to forcibly remount, call drive.mount(\"/content/drive\", force_remount=True).\n"
          ]
        }
      ],
      "source": [
        "from google.colab import drive\n",
        "drive.mount('/content/drive')"
      ]
    },
    {
      "cell_type": "code",
      "execution_count": 2,
      "metadata": {
        "id": "upxflrDUkUGm"
      },
      "outputs": [],
      "source": [
        "\n",
        "import numpy as np\n",
        "from tensorflow.keras.models import Sequential\n",
        "from tensorflow.keras.layers import LSTM\n",
        "from tensorflow.keras.layers import Dense, Dropout\n",
        "import pandas as pd\n",
        "from matplotlib import pyplot as plt\n",
        "from sklearn.preprocessing import MinMaxScaler\n",
        "import seaborn as sns"
      ]
    },
    {
      "cell_type": "code",
      "execution_count": 4,
      "metadata": {
        "colab": {
          "base_uri": "https://localhost:8080/",
          "height": 394
        },
        "id": "7xvF_6-qkoyo",
        "outputId": "91fb5a01-1112-481f-ef5a-3eb2554312d6"
      },
      "outputs": [
        {
          "output_type": "execute_result",
          "data": {
            "text/plain": [
              "              Open    High     Low   Close\n",
              "Date                                      \n",
              "2023-10-12  3820.0  3870.0  3800.0  3830.0\n",
              "2023-05-09  4050.0  4090.0  4030.0  4070.0\n",
              "2023-05-02  4210.0  4220.0  4130.0  4190.0\n",
              "2023-05-04  4170.0  4190.0  4140.0  4150.0\n",
              "2022-01-10  4180.0  4190.0  4100.0  4100.0\n",
              "2021-12-03  4130.0  4180.0  4050.0  4070.0\n",
              "2022-10-18  4310.0  4340.0  4250.0  4250.0\n",
              "2023-01-10  3810.0  3850.0  3750.0  3830.0\n",
              "2022-09-02  4540.0  4620.0  4540.0  4600.0\n",
              "2023-10-13  3820.0  3850.0  3810.0  3850.0"
            ],
            "text/html": [
              "\n",
              "  <div id=\"df-9b73facf-4ff3-4a96-af35-342bb0f3778a\" class=\"colab-df-container\">\n",
              "    <div>\n",
              "<style scoped>\n",
              "    .dataframe tbody tr th:only-of-type {\n",
              "        vertical-align: middle;\n",
              "    }\n",
              "\n",
              "    .dataframe tbody tr th {\n",
              "        vertical-align: top;\n",
              "    }\n",
              "\n",
              "    .dataframe thead th {\n",
              "        text-align: right;\n",
              "    }\n",
              "</style>\n",
              "<table border=\"1\" class=\"dataframe\">\n",
              "  <thead>\n",
              "    <tr style=\"text-align: right;\">\n",
              "      <th></th>\n",
              "      <th>Open</th>\n",
              "      <th>High</th>\n",
              "      <th>Low</th>\n",
              "      <th>Close</th>\n",
              "    </tr>\n",
              "    <tr>\n",
              "      <th>Date</th>\n",
              "      <th></th>\n",
              "      <th></th>\n",
              "      <th></th>\n",
              "      <th></th>\n",
              "    </tr>\n",
              "  </thead>\n",
              "  <tbody>\n",
              "    <tr>\n",
              "      <th>2023-10-12</th>\n",
              "      <td>3820.0</td>\n",
              "      <td>3870.0</td>\n",
              "      <td>3800.0</td>\n",
              "      <td>3830.0</td>\n",
              "    </tr>\n",
              "    <tr>\n",
              "      <th>2023-05-09</th>\n",
              "      <td>4050.0</td>\n",
              "      <td>4090.0</td>\n",
              "      <td>4030.0</td>\n",
              "      <td>4070.0</td>\n",
              "    </tr>\n",
              "    <tr>\n",
              "      <th>2023-05-02</th>\n",
              "      <td>4210.0</td>\n",
              "      <td>4220.0</td>\n",
              "      <td>4130.0</td>\n",
              "      <td>4190.0</td>\n",
              "    </tr>\n",
              "    <tr>\n",
              "      <th>2023-05-04</th>\n",
              "      <td>4170.0</td>\n",
              "      <td>4190.0</td>\n",
              "      <td>4140.0</td>\n",
              "      <td>4150.0</td>\n",
              "    </tr>\n",
              "    <tr>\n",
              "      <th>2022-01-10</th>\n",
              "      <td>4180.0</td>\n",
              "      <td>4190.0</td>\n",
              "      <td>4100.0</td>\n",
              "      <td>4100.0</td>\n",
              "    </tr>\n",
              "    <tr>\n",
              "      <th>2021-12-03</th>\n",
              "      <td>4130.0</td>\n",
              "      <td>4180.0</td>\n",
              "      <td>4050.0</td>\n",
              "      <td>4070.0</td>\n",
              "    </tr>\n",
              "    <tr>\n",
              "      <th>2022-10-18</th>\n",
              "      <td>4310.0</td>\n",
              "      <td>4340.0</td>\n",
              "      <td>4250.0</td>\n",
              "      <td>4250.0</td>\n",
              "    </tr>\n",
              "    <tr>\n",
              "      <th>2023-01-10</th>\n",
              "      <td>3810.0</td>\n",
              "      <td>3850.0</td>\n",
              "      <td>3750.0</td>\n",
              "      <td>3830.0</td>\n",
              "    </tr>\n",
              "    <tr>\n",
              "      <th>2022-09-02</th>\n",
              "      <td>4540.0</td>\n",
              "      <td>4620.0</td>\n",
              "      <td>4540.0</td>\n",
              "      <td>4600.0</td>\n",
              "    </tr>\n",
              "    <tr>\n",
              "      <th>2023-10-13</th>\n",
              "      <td>3820.0</td>\n",
              "      <td>3850.0</td>\n",
              "      <td>3810.0</td>\n",
              "      <td>3850.0</td>\n",
              "    </tr>\n",
              "  </tbody>\n",
              "</table>\n",
              "</div>\n",
              "    <div class=\"colab-df-buttons\">\n",
              "\n",
              "  <div class=\"colab-df-container\">\n",
              "    <button class=\"colab-df-convert\" onclick=\"convertToInteractive('df-9b73facf-4ff3-4a96-af35-342bb0f3778a')\"\n",
              "            title=\"Convert this dataframe to an interactive table.\"\n",
              "            style=\"display:none;\">\n",
              "\n",
              "  <svg xmlns=\"http://www.w3.org/2000/svg\" height=\"24px\" viewBox=\"0 -960 960 960\">\n",
              "    <path d=\"M120-120v-720h720v720H120Zm60-500h600v-160H180v160Zm220 220h160v-160H400v160Zm0 220h160v-160H400v160ZM180-400h160v-160H180v160Zm440 0h160v-160H620v160ZM180-180h160v-160H180v160Zm440 0h160v-160H620v160Z\"/>\n",
              "  </svg>\n",
              "    </button>\n",
              "\n",
              "  <style>\n",
              "    .colab-df-container {\n",
              "      display:flex;\n",
              "      gap: 12px;\n",
              "    }\n",
              "\n",
              "    .colab-df-convert {\n",
              "      background-color: #E8F0FE;\n",
              "      border: none;\n",
              "      border-radius: 50%;\n",
              "      cursor: pointer;\n",
              "      display: none;\n",
              "      fill: #1967D2;\n",
              "      height: 32px;\n",
              "      padding: 0 0 0 0;\n",
              "      width: 32px;\n",
              "    }\n",
              "\n",
              "    .colab-df-convert:hover {\n",
              "      background-color: #E2EBFA;\n",
              "      box-shadow: 0px 1px 2px rgba(60, 64, 67, 0.3), 0px 1px 3px 1px rgba(60, 64, 67, 0.15);\n",
              "      fill: #174EA6;\n",
              "    }\n",
              "\n",
              "    .colab-df-buttons div {\n",
              "      margin-bottom: 4px;\n",
              "    }\n",
              "\n",
              "    [theme=dark] .colab-df-convert {\n",
              "      background-color: #3B4455;\n",
              "      fill: #D2E3FC;\n",
              "    }\n",
              "\n",
              "    [theme=dark] .colab-df-convert:hover {\n",
              "      background-color: #434B5C;\n",
              "      box-shadow: 0px 1px 3px 1px rgba(0, 0, 0, 0.15);\n",
              "      filter: drop-shadow(0px 1px 2px rgba(0, 0, 0, 0.3));\n",
              "      fill: #FFFFFF;\n",
              "    }\n",
              "  </style>\n",
              "\n",
              "    <script>\n",
              "      const buttonEl =\n",
              "        document.querySelector('#df-9b73facf-4ff3-4a96-af35-342bb0f3778a button.colab-df-convert');\n",
              "      buttonEl.style.display =\n",
              "        google.colab.kernel.accessAllowed ? 'block' : 'none';\n",
              "\n",
              "      async function convertToInteractive(key) {\n",
              "        const element = document.querySelector('#df-9b73facf-4ff3-4a96-af35-342bb0f3778a');\n",
              "        const dataTable =\n",
              "          await google.colab.kernel.invokeFunction('convertToInteractive',\n",
              "                                                    [key], {});\n",
              "        if (!dataTable) return;\n",
              "\n",
              "        const docLinkHtml = 'Like what you see? Visit the ' +\n",
              "          '<a target=\"_blank\" href=https://colab.research.google.com/notebooks/data_table.ipynb>data table notebook</a>'\n",
              "          + ' to learn more about interactive tables.';\n",
              "        element.innerHTML = '';\n",
              "        dataTable['output_type'] = 'display_data';\n",
              "        await google.colab.output.renderOutput(dataTable, element);\n",
              "        const docLink = document.createElement('div');\n",
              "        docLink.innerHTML = docLinkHtml;\n",
              "        element.appendChild(docLink);\n",
              "      }\n",
              "    </script>\n",
              "  </div>\n",
              "\n",
              "\n",
              "<div id=\"df-ce7b6534-a791-4092-b242-3e4417660642\">\n",
              "  <button class=\"colab-df-quickchart\" onclick=\"quickchart('df-ce7b6534-a791-4092-b242-3e4417660642')\"\n",
              "            title=\"Suggest charts\"\n",
              "            style=\"display:none;\">\n",
              "\n",
              "<svg xmlns=\"http://www.w3.org/2000/svg\" height=\"24px\"viewBox=\"0 0 24 24\"\n",
              "     width=\"24px\">\n",
              "    <g>\n",
              "        <path d=\"M19 3H5c-1.1 0-2 .9-2 2v14c0 1.1.9 2 2 2h14c1.1 0 2-.9 2-2V5c0-1.1-.9-2-2-2zM9 17H7v-7h2v7zm4 0h-2V7h2v10zm4 0h-2v-4h2v4z\"/>\n",
              "    </g>\n",
              "</svg>\n",
              "  </button>\n",
              "\n",
              "<style>\n",
              "  .colab-df-quickchart {\n",
              "      --bg-color: #E8F0FE;\n",
              "      --fill-color: #1967D2;\n",
              "      --hover-bg-color: #E2EBFA;\n",
              "      --hover-fill-color: #174EA6;\n",
              "      --disabled-fill-color: #AAA;\n",
              "      --disabled-bg-color: #DDD;\n",
              "  }\n",
              "\n",
              "  [theme=dark] .colab-df-quickchart {\n",
              "      --bg-color: #3B4455;\n",
              "      --fill-color: #D2E3FC;\n",
              "      --hover-bg-color: #434B5C;\n",
              "      --hover-fill-color: #FFFFFF;\n",
              "      --disabled-bg-color: #3B4455;\n",
              "      --disabled-fill-color: #666;\n",
              "  }\n",
              "\n",
              "  .colab-df-quickchart {\n",
              "    background-color: var(--bg-color);\n",
              "    border: none;\n",
              "    border-radius: 50%;\n",
              "    cursor: pointer;\n",
              "    display: none;\n",
              "    fill: var(--fill-color);\n",
              "    height: 32px;\n",
              "    padding: 0;\n",
              "    width: 32px;\n",
              "  }\n",
              "\n",
              "  .colab-df-quickchart:hover {\n",
              "    background-color: var(--hover-bg-color);\n",
              "    box-shadow: 0 1px 2px rgba(60, 64, 67, 0.3), 0 1px 3px 1px rgba(60, 64, 67, 0.15);\n",
              "    fill: var(--button-hover-fill-color);\n",
              "  }\n",
              "\n",
              "  .colab-df-quickchart-complete:disabled,\n",
              "  .colab-df-quickchart-complete:disabled:hover {\n",
              "    background-color: var(--disabled-bg-color);\n",
              "    fill: var(--disabled-fill-color);\n",
              "    box-shadow: none;\n",
              "  }\n",
              "\n",
              "  .colab-df-spinner {\n",
              "    border: 2px solid var(--fill-color);\n",
              "    border-color: transparent;\n",
              "    border-bottom-color: var(--fill-color);\n",
              "    animation:\n",
              "      spin 1s steps(1) infinite;\n",
              "  }\n",
              "\n",
              "  @keyframes spin {\n",
              "    0% {\n",
              "      border-color: transparent;\n",
              "      border-bottom-color: var(--fill-color);\n",
              "      border-left-color: var(--fill-color);\n",
              "    }\n",
              "    20% {\n",
              "      border-color: transparent;\n",
              "      border-left-color: var(--fill-color);\n",
              "      border-top-color: var(--fill-color);\n",
              "    }\n",
              "    30% {\n",
              "      border-color: transparent;\n",
              "      border-left-color: var(--fill-color);\n",
              "      border-top-color: var(--fill-color);\n",
              "      border-right-color: var(--fill-color);\n",
              "    }\n",
              "    40% {\n",
              "      border-color: transparent;\n",
              "      border-right-color: var(--fill-color);\n",
              "      border-top-color: var(--fill-color);\n",
              "    }\n",
              "    60% {\n",
              "      border-color: transparent;\n",
              "      border-right-color: var(--fill-color);\n",
              "    }\n",
              "    80% {\n",
              "      border-color: transparent;\n",
              "      border-right-color: var(--fill-color);\n",
              "      border-bottom-color: var(--fill-color);\n",
              "    }\n",
              "    90% {\n",
              "      border-color: transparent;\n",
              "      border-bottom-color: var(--fill-color);\n",
              "    }\n",
              "  }\n",
              "</style>\n",
              "\n",
              "  <script>\n",
              "    async function quickchart(key) {\n",
              "      const quickchartButtonEl =\n",
              "        document.querySelector('#' + key + ' button');\n",
              "      quickchartButtonEl.disabled = true;  // To prevent multiple clicks.\n",
              "      quickchartButtonEl.classList.add('colab-df-spinner');\n",
              "      try {\n",
              "        const charts = await google.colab.kernel.invokeFunction(\n",
              "            'suggestCharts', [key], {});\n",
              "      } catch (error) {\n",
              "        console.error('Error during call to suggestCharts:', error);\n",
              "      }\n",
              "      quickchartButtonEl.classList.remove('colab-df-spinner');\n",
              "      quickchartButtonEl.classList.add('colab-df-quickchart-complete');\n",
              "    }\n",
              "    (() => {\n",
              "      let quickchartButtonEl =\n",
              "        document.querySelector('#df-ce7b6534-a791-4092-b242-3e4417660642 button');\n",
              "      quickchartButtonEl.style.display =\n",
              "        google.colab.kernel.accessAllowed ? 'block' : 'none';\n",
              "    })();\n",
              "  </script>\n",
              "</div>\n",
              "    </div>\n",
              "  </div>\n"
            ],
            "application/vnd.google.colaboratory.intrinsic+json": {
              "type": "dataframe",
              "summary": "{\n  \"name\": \"data\",\n  \"rows\": 10,\n  \"fields\": [\n    {\n      \"column\": \"Date\",\n      \"properties\": {\n        \"dtype\": \"date\",\n        \"min\": \"2021-12-03 00:00:00\",\n        \"max\": \"2023-10-13 00:00:00\",\n        \"num_unique_values\": 10,\n        \"samples\": [\n          \"2022-09-02 00:00:00\",\n          \"2023-05-09 00:00:00\",\n          \"2021-12-03 00:00:00\"\n        ],\n        \"semantic_type\": \"\",\n        \"description\": \"\"\n      }\n    },\n    {\n      \"column\": \"Open\",\n      \"properties\": {\n        \"dtype\": \"number\",\n        \"std\": 236.93412117670553,\n        \"min\": 3810.0,\n        \"max\": 4540.0,\n        \"num_unique_values\": 9,\n        \"samples\": [\n          3810.0,\n          4050.0,\n          4130.0\n        ],\n        \"semantic_type\": \"\",\n        \"description\": \"\"\n      }\n    },\n    {\n      \"column\": \"High\",\n      \"properties\": {\n        \"dtype\": \"number\",\n        \"std\": 241.9825521717538,\n        \"min\": 3850.0,\n        \"max\": 4620.0,\n        \"num_unique_values\": 8,\n        \"samples\": [\n          4090.0,\n          4340.0,\n          3870.0\n        ],\n        \"semantic_type\": \"\",\n        \"description\": \"\"\n      }\n    },\n    {\n      \"column\": \"Low\",\n      \"properties\": {\n        \"dtype\": \"number\",\n        \"std\": 237.25279532365658,\n        \"min\": 3750.0,\n        \"max\": 4540.0,\n        \"num_unique_values\": 10,\n        \"samples\": [\n          4540.0,\n          4030.0,\n          4050.0\n        ],\n        \"semantic_type\": \"\",\n        \"description\": \"\"\n      }\n    },\n    {\n      \"column\": \"Close\",\n      \"properties\": {\n        \"dtype\": \"number\",\n        \"std\": 234.00854685246006,\n        \"min\": 3830.0,\n        \"max\": 4600.0,\n        \"num_unique_values\": 8,\n        \"samples\": [\n          4070.0,\n          4250.0,\n          3830.0\n        ],\n        \"semantic_type\": \"\",\n        \"description\": \"\"\n      }\n    }\n  ]\n}"
            }
          },
          "metadata": {},
          "execution_count": 4
        }
      ],
      "source": [
        "data = pd.read_csv('/content/drive/MyDrive/Forecasting/TLKM_JK.csv',parse_dates=[\"Date\"],index_col=[0])\n",
        "data = data.drop(\"Volume\", axis=1)\n",
        "data = data.drop(\"Adj Close\", axis=1)\n",
        "data.sample(10)"
      ]
    },
    {
      "cell_type": "code",
      "execution_count": 5,
      "metadata": {
        "colab": {
          "base_uri": "https://localhost:8080/",
          "height": 237
        },
        "id": "9LOQzYe68r5w",
        "outputId": "0a47ef5f-6730-44b4-c119-a44f34df420e"
      },
      "outputs": [
        {
          "output_type": "execute_result",
          "data": {
            "text/plain": [
              "              Open    High     Low   Close\n",
              "Date                                      \n",
              "2023-11-07  3600.0  3610.0  3550.0  3570.0\n",
              "2023-11-08  3520.0  3540.0  3500.0  3520.0\n",
              "2023-11-09  3500.0  3570.0  3500.0  3530.0\n",
              "2023-11-10  3520.0  3550.0  3490.0  3550.0\n",
              "2023-11-13  3570.0  3570.0  3510.0  3520.0"
            ],
            "text/html": [
              "\n",
              "  <div id=\"df-f431e496-6e65-4409-89eb-0b2ddfc58862\" class=\"colab-df-container\">\n",
              "    <div>\n",
              "<style scoped>\n",
              "    .dataframe tbody tr th:only-of-type {\n",
              "        vertical-align: middle;\n",
              "    }\n",
              "\n",
              "    .dataframe tbody tr th {\n",
              "        vertical-align: top;\n",
              "    }\n",
              "\n",
              "    .dataframe thead th {\n",
              "        text-align: right;\n",
              "    }\n",
              "</style>\n",
              "<table border=\"1\" class=\"dataframe\">\n",
              "  <thead>\n",
              "    <tr style=\"text-align: right;\">\n",
              "      <th></th>\n",
              "      <th>Open</th>\n",
              "      <th>High</th>\n",
              "      <th>Low</th>\n",
              "      <th>Close</th>\n",
              "    </tr>\n",
              "    <tr>\n",
              "      <th>Date</th>\n",
              "      <th></th>\n",
              "      <th></th>\n",
              "      <th></th>\n",
              "      <th></th>\n",
              "    </tr>\n",
              "  </thead>\n",
              "  <tbody>\n",
              "    <tr>\n",
              "      <th>2023-11-07</th>\n",
              "      <td>3600.0</td>\n",
              "      <td>3610.0</td>\n",
              "      <td>3550.0</td>\n",
              "      <td>3570.0</td>\n",
              "    </tr>\n",
              "    <tr>\n",
              "      <th>2023-11-08</th>\n",
              "      <td>3520.0</td>\n",
              "      <td>3540.0</td>\n",
              "      <td>3500.0</td>\n",
              "      <td>3520.0</td>\n",
              "    </tr>\n",
              "    <tr>\n",
              "      <th>2023-11-09</th>\n",
              "      <td>3500.0</td>\n",
              "      <td>3570.0</td>\n",
              "      <td>3500.0</td>\n",
              "      <td>3530.0</td>\n",
              "    </tr>\n",
              "    <tr>\n",
              "      <th>2023-11-10</th>\n",
              "      <td>3520.0</td>\n",
              "      <td>3550.0</td>\n",
              "      <td>3490.0</td>\n",
              "      <td>3550.0</td>\n",
              "    </tr>\n",
              "    <tr>\n",
              "      <th>2023-11-13</th>\n",
              "      <td>3570.0</td>\n",
              "      <td>3570.0</td>\n",
              "      <td>3510.0</td>\n",
              "      <td>3520.0</td>\n",
              "    </tr>\n",
              "  </tbody>\n",
              "</table>\n",
              "</div>\n",
              "    <div class=\"colab-df-buttons\">\n",
              "\n",
              "  <div class=\"colab-df-container\">\n",
              "    <button class=\"colab-df-convert\" onclick=\"convertToInteractive('df-f431e496-6e65-4409-89eb-0b2ddfc58862')\"\n",
              "            title=\"Convert this dataframe to an interactive table.\"\n",
              "            style=\"display:none;\">\n",
              "\n",
              "  <svg xmlns=\"http://www.w3.org/2000/svg\" height=\"24px\" viewBox=\"0 -960 960 960\">\n",
              "    <path d=\"M120-120v-720h720v720H120Zm60-500h600v-160H180v160Zm220 220h160v-160H400v160Zm0 220h160v-160H400v160ZM180-400h160v-160H180v160Zm440 0h160v-160H620v160ZM180-180h160v-160H180v160Zm440 0h160v-160H620v160Z\"/>\n",
              "  </svg>\n",
              "    </button>\n",
              "\n",
              "  <style>\n",
              "    .colab-df-container {\n",
              "      display:flex;\n",
              "      gap: 12px;\n",
              "    }\n",
              "\n",
              "    .colab-df-convert {\n",
              "      background-color: #E8F0FE;\n",
              "      border: none;\n",
              "      border-radius: 50%;\n",
              "      cursor: pointer;\n",
              "      display: none;\n",
              "      fill: #1967D2;\n",
              "      height: 32px;\n",
              "      padding: 0 0 0 0;\n",
              "      width: 32px;\n",
              "    }\n",
              "\n",
              "    .colab-df-convert:hover {\n",
              "      background-color: #E2EBFA;\n",
              "      box-shadow: 0px 1px 2px rgba(60, 64, 67, 0.3), 0px 1px 3px 1px rgba(60, 64, 67, 0.15);\n",
              "      fill: #174EA6;\n",
              "    }\n",
              "\n",
              "    .colab-df-buttons div {\n",
              "      margin-bottom: 4px;\n",
              "    }\n",
              "\n",
              "    [theme=dark] .colab-df-convert {\n",
              "      background-color: #3B4455;\n",
              "      fill: #D2E3FC;\n",
              "    }\n",
              "\n",
              "    [theme=dark] .colab-df-convert:hover {\n",
              "      background-color: #434B5C;\n",
              "      box-shadow: 0px 1px 3px 1px rgba(0, 0, 0, 0.15);\n",
              "      filter: drop-shadow(0px 1px 2px rgba(0, 0, 0, 0.3));\n",
              "      fill: #FFFFFF;\n",
              "    }\n",
              "  </style>\n",
              "\n",
              "    <script>\n",
              "      const buttonEl =\n",
              "        document.querySelector('#df-f431e496-6e65-4409-89eb-0b2ddfc58862 button.colab-df-convert');\n",
              "      buttonEl.style.display =\n",
              "        google.colab.kernel.accessAllowed ? 'block' : 'none';\n",
              "\n",
              "      async function convertToInteractive(key) {\n",
              "        const element = document.querySelector('#df-f431e496-6e65-4409-89eb-0b2ddfc58862');\n",
              "        const dataTable =\n",
              "          await google.colab.kernel.invokeFunction('convertToInteractive',\n",
              "                                                    [key], {});\n",
              "        if (!dataTable) return;\n",
              "\n",
              "        const docLinkHtml = 'Like what you see? Visit the ' +\n",
              "          '<a target=\"_blank\" href=https://colab.research.google.com/notebooks/data_table.ipynb>data table notebook</a>'\n",
              "          + ' to learn more about interactive tables.';\n",
              "        element.innerHTML = '';\n",
              "        dataTable['output_type'] = 'display_data';\n",
              "        await google.colab.output.renderOutput(dataTable, element);\n",
              "        const docLink = document.createElement('div');\n",
              "        docLink.innerHTML = docLinkHtml;\n",
              "        element.appendChild(docLink);\n",
              "      }\n",
              "    </script>\n",
              "  </div>\n",
              "\n",
              "\n",
              "<div id=\"df-b9243f24-95cf-478c-9c1f-fd3fbd5f589e\">\n",
              "  <button class=\"colab-df-quickchart\" onclick=\"quickchart('df-b9243f24-95cf-478c-9c1f-fd3fbd5f589e')\"\n",
              "            title=\"Suggest charts\"\n",
              "            style=\"display:none;\">\n",
              "\n",
              "<svg xmlns=\"http://www.w3.org/2000/svg\" height=\"24px\"viewBox=\"0 0 24 24\"\n",
              "     width=\"24px\">\n",
              "    <g>\n",
              "        <path d=\"M19 3H5c-1.1 0-2 .9-2 2v14c0 1.1.9 2 2 2h14c1.1 0 2-.9 2-2V5c0-1.1-.9-2-2-2zM9 17H7v-7h2v7zm4 0h-2V7h2v10zm4 0h-2v-4h2v4z\"/>\n",
              "    </g>\n",
              "</svg>\n",
              "  </button>\n",
              "\n",
              "<style>\n",
              "  .colab-df-quickchart {\n",
              "      --bg-color: #E8F0FE;\n",
              "      --fill-color: #1967D2;\n",
              "      --hover-bg-color: #E2EBFA;\n",
              "      --hover-fill-color: #174EA6;\n",
              "      --disabled-fill-color: #AAA;\n",
              "      --disabled-bg-color: #DDD;\n",
              "  }\n",
              "\n",
              "  [theme=dark] .colab-df-quickchart {\n",
              "      --bg-color: #3B4455;\n",
              "      --fill-color: #D2E3FC;\n",
              "      --hover-bg-color: #434B5C;\n",
              "      --hover-fill-color: #FFFFFF;\n",
              "      --disabled-bg-color: #3B4455;\n",
              "      --disabled-fill-color: #666;\n",
              "  }\n",
              "\n",
              "  .colab-df-quickchart {\n",
              "    background-color: var(--bg-color);\n",
              "    border: none;\n",
              "    border-radius: 50%;\n",
              "    cursor: pointer;\n",
              "    display: none;\n",
              "    fill: var(--fill-color);\n",
              "    height: 32px;\n",
              "    padding: 0;\n",
              "    width: 32px;\n",
              "  }\n",
              "\n",
              "  .colab-df-quickchart:hover {\n",
              "    background-color: var(--hover-bg-color);\n",
              "    box-shadow: 0 1px 2px rgba(60, 64, 67, 0.3), 0 1px 3px 1px rgba(60, 64, 67, 0.15);\n",
              "    fill: var(--button-hover-fill-color);\n",
              "  }\n",
              "\n",
              "  .colab-df-quickchart-complete:disabled,\n",
              "  .colab-df-quickchart-complete:disabled:hover {\n",
              "    background-color: var(--disabled-bg-color);\n",
              "    fill: var(--disabled-fill-color);\n",
              "    box-shadow: none;\n",
              "  }\n",
              "\n",
              "  .colab-df-spinner {\n",
              "    border: 2px solid var(--fill-color);\n",
              "    border-color: transparent;\n",
              "    border-bottom-color: var(--fill-color);\n",
              "    animation:\n",
              "      spin 1s steps(1) infinite;\n",
              "  }\n",
              "\n",
              "  @keyframes spin {\n",
              "    0% {\n",
              "      border-color: transparent;\n",
              "      border-bottom-color: var(--fill-color);\n",
              "      border-left-color: var(--fill-color);\n",
              "    }\n",
              "    20% {\n",
              "      border-color: transparent;\n",
              "      border-left-color: var(--fill-color);\n",
              "      border-top-color: var(--fill-color);\n",
              "    }\n",
              "    30% {\n",
              "      border-color: transparent;\n",
              "      border-left-color: var(--fill-color);\n",
              "      border-top-color: var(--fill-color);\n",
              "      border-right-color: var(--fill-color);\n",
              "    }\n",
              "    40% {\n",
              "      border-color: transparent;\n",
              "      border-right-color: var(--fill-color);\n",
              "      border-top-color: var(--fill-color);\n",
              "    }\n",
              "    60% {\n",
              "      border-color: transparent;\n",
              "      border-right-color: var(--fill-color);\n",
              "    }\n",
              "    80% {\n",
              "      border-color: transparent;\n",
              "      border-right-color: var(--fill-color);\n",
              "      border-bottom-color: var(--fill-color);\n",
              "    }\n",
              "    90% {\n",
              "      border-color: transparent;\n",
              "      border-bottom-color: var(--fill-color);\n",
              "    }\n",
              "  }\n",
              "</style>\n",
              "\n",
              "  <script>\n",
              "    async function quickchart(key) {\n",
              "      const quickchartButtonEl =\n",
              "        document.querySelector('#' + key + ' button');\n",
              "      quickchartButtonEl.disabled = true;  // To prevent multiple clicks.\n",
              "      quickchartButtonEl.classList.add('colab-df-spinner');\n",
              "      try {\n",
              "        const charts = await google.colab.kernel.invokeFunction(\n",
              "            'suggestCharts', [key], {});\n",
              "      } catch (error) {\n",
              "        console.error('Error during call to suggestCharts:', error);\n",
              "      }\n",
              "      quickchartButtonEl.classList.remove('colab-df-spinner');\n",
              "      quickchartButtonEl.classList.add('colab-df-quickchart-complete');\n",
              "    }\n",
              "    (() => {\n",
              "      let quickchartButtonEl =\n",
              "        document.querySelector('#df-b9243f24-95cf-478c-9c1f-fd3fbd5f589e button');\n",
              "      quickchartButtonEl.style.display =\n",
              "        google.colab.kernel.accessAllowed ? 'block' : 'none';\n",
              "    })();\n",
              "  </script>\n",
              "</div>\n",
              "    </div>\n",
              "  </div>\n"
            ],
            "application/vnd.google.colaboratory.intrinsic+json": {
              "type": "dataframe",
              "summary": "{\n  \"name\": \"data\",\n  \"rows\": 5,\n  \"fields\": [\n    {\n      \"column\": \"Date\",\n      \"properties\": {\n        \"dtype\": \"date\",\n        \"min\": \"2023-11-07 00:00:00\",\n        \"max\": \"2023-11-13 00:00:00\",\n        \"num_unique_values\": 5,\n        \"samples\": [\n          \"2023-11-08 00:00:00\",\n          \"2023-11-13 00:00:00\",\n          \"2023-11-09 00:00:00\"\n        ],\n        \"semantic_type\": \"\",\n        \"description\": \"\"\n      }\n    },\n    {\n      \"column\": \"Open\",\n      \"properties\": {\n        \"dtype\": \"number\",\n        \"std\": 41.47288270665544,\n        \"min\": 3500.0,\n        \"max\": 3600.0,\n        \"num_unique_values\": 4,\n        \"samples\": [\n          3520.0,\n          3570.0,\n          3600.0\n        ],\n        \"semantic_type\": \"\",\n        \"description\": \"\"\n      }\n    },\n    {\n      \"column\": \"High\",\n      \"properties\": {\n        \"dtype\": \"number\",\n        \"std\": 26.832815729997478,\n        \"min\": 3540.0,\n        \"max\": 3610.0,\n        \"num_unique_values\": 4,\n        \"samples\": [\n          3540.0,\n          3550.0,\n          3610.0\n        ],\n        \"semantic_type\": \"\",\n        \"description\": \"\"\n      }\n    },\n    {\n      \"column\": \"Low\",\n      \"properties\": {\n        \"dtype\": \"number\",\n        \"std\": 23.45207879911715,\n        \"min\": 3490.0,\n        \"max\": 3550.0,\n        \"num_unique_values\": 4,\n        \"samples\": [\n          3500.0,\n          3510.0,\n          3550.0\n        ],\n        \"semantic_type\": \"\",\n        \"description\": \"\"\n      }\n    },\n    {\n      \"column\": \"Close\",\n      \"properties\": {\n        \"dtype\": \"number\",\n        \"std\": 21.6794833886788,\n        \"min\": 3520.0,\n        \"max\": 3570.0,\n        \"num_unique_values\": 4,\n        \"samples\": [\n          3520.0,\n          3550.0,\n          3570.0\n        ],\n        \"semantic_type\": \"\",\n        \"description\": \"\"\n      }\n    }\n  ]\n}"
            }
          },
          "metadata": {},
          "execution_count": 5
        }
      ],
      "source": [
        "data.tail()"
      ]
    },
    {
      "cell_type": "code",
      "execution_count": 6,
      "metadata": {
        "colab": {
          "base_uri": "https://localhost:8080/"
        },
        "id": "WpDasZ91k959",
        "outputId": "8a2fc480-e187-4f48-a908-6b648f674411"
      },
      "outputs": [
        {
          "output_type": "execute_result",
          "data": {
            "text/plain": [
              "97"
            ]
          },
          "metadata": {},
          "execution_count": 6
        }
      ],
      "source": [
        "test_split=round(len(data)*0.20)\n",
        "test_split"
      ]
    },
    {
      "cell_type": "code",
      "execution_count": 7,
      "metadata": {
        "colab": {
          "base_uri": "https://localhost:8080/"
        },
        "id": "gLj1UChslGvk",
        "outputId": "747eaae9-dd2f-4ec2-c927-e972a69ce0dd"
      },
      "outputs": [
        {
          "output_type": "stream",
          "name": "stdout",
          "text": [
            "(390, 4)\n",
            "(97, 4)\n"
          ]
        }
      ],
      "source": [
        "train_data = data[:-97]\n",
        "test_data = data[-97:]\n",
        "\n",
        "\n",
        "print(train_data.shape)\n",
        "print(test_data.shape)"
      ]
    },
    {
      "cell_type": "code",
      "execution_count": 8,
      "metadata": {
        "colab": {
          "base_uri": "https://localhost:8080/"
        },
        "id": "G8ZMd_tSlQJ-",
        "outputId": "abeb5486-4b51-4df0-f6da-d2651b2ebaa8"
      },
      "outputs": [
        {
          "output_type": "stream",
          "name": "stdout",
          "text": [
            "(390, 4)\n",
            "(97, 4)\n"
          ]
        }
      ],
      "source": [
        "scaler = MinMaxScaler(feature_range=(0,1))\n",
        "scaled_training = scaler.fit_transform(train_data)\n",
        "scaled_testing = scaler.fit_transform(test_data)\n",
        "\n",
        "print(scaled_training.shape)\n",
        "print(scaled_testing.shape)"
      ]
    },
    {
      "cell_type": "code",
      "execution_count": 9,
      "metadata": {
        "colab": {
          "base_uri": "https://localhost:8080/"
        },
        "id": "u60Qe0JRljFx",
        "outputId": "bed61413-45ee-4b8d-8dec-c0832fe1dd3b"
      },
      "outputs": [
        {
          "output_type": "execute_result",
          "data": {
            "text/plain": [
              "array([[0.00793651, 0.00826446, 0.02608696, 0.        ],\n",
              "       [0.        , 0.03305785, 0.0173913 , 0.05982906],\n",
              "       [0.07936508, 0.04132231, 0.02608696, 0.02564103],\n",
              "       ...,\n",
              "       [0.29365079, 0.2892562 , 0.33043478, 0.30769231],\n",
              "       [0.30952381, 0.2892562 , 0.33043478, 0.33333333],\n",
              "       [0.3015873 , 0.28099174, 0.33043478, 0.32478632]])"
            ]
          },
          "metadata": {},
          "execution_count": 9
        }
      ],
      "source": [
        "scaled_training"
      ]
    },
    {
      "cell_type": "code",
      "execution_count": 10,
      "metadata": {
        "colab": {
          "base_uri": "https://localhost:8080/"
        },
        "id": "iOCjYzpWltH5",
        "outputId": "e8ea540b-9e20-4072-f803-dfdd4d6563bb"
      },
      "outputs": [
        {
          "output_type": "execute_result",
          "data": {
            "text/plain": [
              "array([[0.92063492, 0.9245283 , 0.91666667, 0.89655172],\n",
              "       [0.85714286, 0.86792453, 0.91666667, 0.9137931 ],\n",
              "       [0.85714286, 0.9245283 , 0.91666667, 0.98275862],\n",
              "       [1.        , 1.        , 1.        , 1.        ],\n",
              "       [1.        , 1.        , 0.96666667, 1.        ],\n",
              "       [0.95238095, 0.96226415, 0.96666667, 0.94827586],\n",
              "       [0.9047619 , 0.90566038, 0.93333333, 0.96551724],\n",
              "       [0.9047619 , 0.9245283 , 0.95      , 0.93103448],\n",
              "       [0.88888889, 0.90566038, 0.93333333, 0.93103448],\n",
              "       [0.88888889, 0.90566038, 0.91666667, 0.9137931 ],\n",
              "       [0.87301587, 0.9245283 , 0.93333333, 0.96551724],\n",
              "       [0.92063492, 0.96226415, 0.96666667, 0.96551724],\n",
              "       [0.88888889, 0.88679245, 0.86666667, 0.86206897],\n",
              "       [0.88888889, 0.86792453, 0.88333333, 0.87931034],\n",
              "       [0.87301587, 0.88679245, 0.86666667, 0.84482759],\n",
              "       [0.84126984, 0.81132075, 0.71666667, 0.74137931],\n",
              "       [0.66666667, 0.67924528, 0.7       , 0.74137931],\n",
              "       [0.6984127 , 0.69811321, 0.75      , 0.75862069],\n",
              "       [0.76190476, 0.81132075, 0.8       , 0.82758621],\n",
              "       [0.82539683, 0.79245283, 0.81666667, 0.79310345],\n",
              "       [0.77777778, 0.75471698, 0.73333333, 0.79310345],\n",
              "       [0.6984127 , 0.67924528, 0.55      , 0.51724138],\n",
              "       [0.49206349, 0.47169811, 0.5       , 0.51724138],\n",
              "       [0.47619048, 0.47169811, 0.46666667, 0.51724138],\n",
              "       [0.47619048, 0.52830189, 0.51666667, 0.56896552],\n",
              "       [0.53968254, 0.45283019, 0.48333333, 0.46551724],\n",
              "       [0.42857143, 0.49056604, 0.46666667, 0.51724138],\n",
              "       [0.50793651, 0.43396226, 0.5       , 0.46551724],\n",
              "       [0.47619048, 0.41509434, 0.48333333, 0.44827586],\n",
              "       [0.44444444, 0.49056604, 0.48333333, 0.53448276],\n",
              "       [0.55555556, 0.56603774, 0.58333333, 0.60344828],\n",
              "       [0.63492063, 0.62264151, 0.68333333, 0.65517241],\n",
              "       [0.68253968, 0.64150943, 0.66666667, 0.67241379],\n",
              "       [0.65079365, 0.62264151, 0.61666667, 0.70689655],\n",
              "       [0.63492063, 0.62264151, 0.68333333, 0.68965517],\n",
              "       [0.61904762, 0.62264151, 0.6       , 0.70689655],\n",
              "       [0.61904762, 0.56603774, 0.61666667, 0.5862069 ],\n",
              "       [0.57142857, 0.52830189, 0.55      , 0.55172414],\n",
              "       [0.53968254, 0.52830189, 0.56666667, 0.56896552],\n",
              "       [0.55555556, 0.50943396, 0.56666667, 0.55172414],\n",
              "       [0.52380952, 0.50943396, 0.55      , 0.51724138],\n",
              "       [0.47619048, 0.43396226, 0.51666667, 0.51724138],\n",
              "       [0.52380952, 0.45283019, 0.51666667, 0.48275862],\n",
              "       [0.47619048, 0.41509434, 0.51666667, 0.51724138],\n",
              "       [0.52380952, 0.66037736, 0.55      , 0.67241379],\n",
              "       [0.65079365, 0.60377358, 0.51666667, 0.53448276],\n",
              "       [0.49206349, 0.45283019, 0.53333333, 0.51724138],\n",
              "       [0.50793651, 0.47169811, 0.53333333, 0.53448276],\n",
              "       [0.52380952, 0.47169811, 0.53333333, 0.55172414],\n",
              "       [0.55555556, 0.58490566, 0.58333333, 0.63793103],\n",
              "       [0.6031746 , 0.54716981, 0.56666667, 0.5862069 ],\n",
              "       [0.58730159, 0.50943396, 0.46666667, 0.46551724],\n",
              "       [0.49206349, 0.39622642, 0.48333333, 0.48275862],\n",
              "       [0.47619048, 0.45283019, 0.51666667, 0.5       ],\n",
              "       [0.50793651, 0.41509434, 0.46666667, 0.5       ],\n",
              "       [0.49206349, 0.41509434, 0.48333333, 0.44827586],\n",
              "       [0.44444444, 0.52830189, 0.46666667, 0.51724138],\n",
              "       [0.47619048, 0.41509434, 0.48333333, 0.44827586],\n",
              "       [0.46031746, 0.45283019, 0.5       , 0.53448276],\n",
              "       [0.53968254, 0.66037736, 0.58333333, 0.67241379],\n",
              "       [0.65079365, 0.64150943, 0.66666667, 0.67241379],\n",
              "       [0.68253968, 0.71698113, 0.7       , 0.75862069],\n",
              "       [0.65079365, 0.62264151, 0.63333333, 0.60344828],\n",
              "       [0.58730159, 0.56603774, 0.6       , 0.5862069 ],\n",
              "       [0.55555556, 0.52830189, 0.55      , 0.51724138],\n",
              "       [0.52380952, 0.56603774, 0.56666667, 0.56896552],\n",
              "       [0.55555556, 0.52830189, 0.56666667, 0.56896552],\n",
              "       [0.55555556, 0.56603774, 0.58333333, 0.60344828],\n",
              "       [0.63492063, 0.56603774, 0.58333333, 0.62068966],\n",
              "       [0.61904762, 0.56603774, 0.55      , 0.51724138],\n",
              "       [0.6031746 , 0.56603774, 0.63333333, 0.62068966],\n",
              "       [0.58730159, 0.52830189, 0.6       , 0.5862069 ],\n",
              "       [0.6031746 , 0.60377358, 0.63333333, 0.67241379],\n",
              "       [0.6031746 , 0.58490566, 0.65      , 0.62068966],\n",
              "       [0.66666667, 0.69811321, 0.68333333, 0.70689655],\n",
              "       [0.66666667, 0.66037736, 0.7       , 0.74137931],\n",
              "       [0.71428571, 0.66037736, 0.58333333, 0.5862069 ],\n",
              "       [0.6031746 , 0.58490566, 0.63333333, 0.63793103],\n",
              "       [0.58730159, 0.52830189, 0.56666667, 0.56896552],\n",
              "       [0.52380952, 0.49056604, 0.55      , 0.53448276],\n",
              "       [0.50793651, 0.43396226, 0.5       , 0.48275862],\n",
              "       [0.49206349, 0.41509434, 0.36666667, 0.32758621],\n",
              "       [0.38095238, 0.32075472, 0.35      , 0.39655172],\n",
              "       [0.3968254 , 0.33962264, 0.31666667, 0.31034483],\n",
              "       [0.31746032, 0.20754717, 0.11666667, 0.10344828],\n",
              "       [0.12698413, 0.05660377, 0.08333333, 0.13793103],\n",
              "       [0.15873016, 0.        , 0.        , 0.        ],\n",
              "       [0.        , 0.01886792, 0.01666667, 0.12068966],\n",
              "       [0.31746032, 0.37735849, 0.35      , 0.34482759],\n",
              "       [0.46031746, 0.35849057, 0.38333333, 0.34482759],\n",
              "       [0.3015873 , 0.24528302, 0.25      , 0.25862069],\n",
              "       [0.33333333, 0.28301887, 0.35      , 0.39655172],\n",
              "       [0.31746032, 0.20754717, 0.26666667, 0.25862069],\n",
              "       [0.19047619, 0.0754717 , 0.18333333, 0.17241379],\n",
              "       [0.15873016, 0.13207547, 0.18333333, 0.18965517],\n",
              "       [0.19047619, 0.09433962, 0.16666667, 0.22413793],\n",
              "       [0.26984127, 0.13207547, 0.2       , 0.17241379]])"
            ]
          },
          "metadata": {},
          "execution_count": 10
        }
      ],
      "source": [
        "scaled_testing"
      ]
    },
    {
      "cell_type": "code",
      "execution_count": 11,
      "metadata": {
        "id": "7KW3FOihlua_"
      },
      "outputs": [],
      "source": [
        "def createXY(dataset, n_past):\n",
        "    dataX = []\n",
        "    dataY = []\n",
        "    for i in range(n_past, len(dataset)):\n",
        "        # Extract input features (Open, High, Low, Close)\n",
        "        input_features = dataset[i - n_past:i, :]\n",
        "\n",
        "        # Extract the target variable (Close price)\n",
        "        target = dataset[i, 3]  # Assuming Close is in the fourth column (index 3)\n",
        "\n",
        "        dataX.append(input_features)\n",
        "        dataY.append(target)\n",
        "    return np.array(dataX), np.array(dataY)"
      ]
    },
    {
      "cell_type": "code",
      "execution_count": 12,
      "metadata": {
        "colab": {
          "base_uri": "https://localhost:8080/"
        },
        "id": "e1QIqpoaqW-n",
        "outputId": "bf522b36-5fa9-429b-944b-60657e28c82e"
      },
      "outputs": [
        {
          "output_type": "stream",
          "name": "stdout",
          "text": [
            "trainX Shape--  (350, 40, 4)\n",
            "trainY Shape--  (350,)\n"
          ]
        }
      ],
      "source": [
        "trainX,trainY=createXY(scaled_training,40)\n",
        "print(\"trainX Shape-- \",trainX.shape)\n",
        "print(\"trainY Shape-- \",trainY.shape)"
      ]
    },
    {
      "cell_type": "code",
      "execution_count": 13,
      "metadata": {
        "colab": {
          "base_uri": "https://localhost:8080/"
        },
        "id": "qsCpQIX8qcJ9",
        "outputId": "7ee717aa-a9a3-44c7-a454-67da7af41f6f"
      },
      "outputs": [
        {
          "output_type": "stream",
          "name": "stdout",
          "text": [
            "testX Shape--  (57, 40, 4)\n",
            "testY Shape--  (57,)\n"
          ]
        }
      ],
      "source": [
        "testX,testY=createXY(scaled_testing,40)\n",
        "print(\"testX Shape-- \",testX.shape)\n",
        "print(\"testY Shape-- \",testY.shape)"
      ]
    },
    {
      "cell_type": "code",
      "execution_count": 15,
      "metadata": {
        "colab": {
          "base_uri": "https://localhost:8080/"
        },
        "id": "gG-9QgLFtiQy",
        "outputId": "e363f122-7fb8-4f1c-eead-287c4da92352"
      },
      "outputs": [
        {
          "output_type": "stream",
          "name": "stdout",
          "text": [
            "Requirement already satisfied: tensorflow in /usr/local/lib/python3.10/dist-packages (2.16.1)\n",
            "Requirement already satisfied: keras in /usr/local/lib/python3.10/dist-packages (3.2.1)\n",
            "Requirement already satisfied: absl-py>=1.0.0 in /usr/local/lib/python3.10/dist-packages (from tensorflow) (1.4.0)\n",
            "Requirement already satisfied: astunparse>=1.6.0 in /usr/local/lib/python3.10/dist-packages (from tensorflow) (1.6.3)\n",
            "Requirement already satisfied: flatbuffers>=23.5.26 in /usr/local/lib/python3.10/dist-packages (from tensorflow) (24.3.25)\n",
            "Requirement already satisfied: gast!=0.5.0,!=0.5.1,!=0.5.2,>=0.2.1 in /usr/local/lib/python3.10/dist-packages (from tensorflow) (0.5.4)\n",
            "Requirement already satisfied: google-pasta>=0.1.1 in /usr/local/lib/python3.10/dist-packages (from tensorflow) (0.2.0)\n",
            "Requirement already satisfied: h5py>=3.10.0 in /usr/local/lib/python3.10/dist-packages (from tensorflow) (3.11.0)\n",
            "Requirement already satisfied: libclang>=13.0.0 in /usr/local/lib/python3.10/dist-packages (from tensorflow) (18.1.1)\n",
            "Requirement already satisfied: ml-dtypes~=0.3.1 in /usr/local/lib/python3.10/dist-packages (from tensorflow) (0.3.2)\n",
            "Requirement already satisfied: opt-einsum>=2.3.2 in /usr/local/lib/python3.10/dist-packages (from tensorflow) (3.3.0)\n",
            "Requirement already satisfied: packaging in /usr/local/lib/python3.10/dist-packages (from tensorflow) (24.0)\n",
            "Requirement already satisfied: protobuf!=4.21.0,!=4.21.1,!=4.21.2,!=4.21.3,!=4.21.4,!=4.21.5,<5.0.0dev,>=3.20.3 in /usr/local/lib/python3.10/dist-packages (from tensorflow) (3.20.3)\n",
            "Requirement already satisfied: requests<3,>=2.21.0 in /usr/local/lib/python3.10/dist-packages (from tensorflow) (2.31.0)\n",
            "Requirement already satisfied: setuptools in /usr/local/lib/python3.10/dist-packages (from tensorflow) (67.7.2)\n",
            "Requirement already satisfied: six>=1.12.0 in /usr/local/lib/python3.10/dist-packages (from tensorflow) (1.16.0)\n",
            "Requirement already satisfied: termcolor>=1.1.0 in /usr/local/lib/python3.10/dist-packages (from tensorflow) (2.4.0)\n",
            "Requirement already satisfied: typing-extensions>=3.6.6 in /usr/local/lib/python3.10/dist-packages (from tensorflow) (4.11.0)\n",
            "Requirement already satisfied: wrapt>=1.11.0 in /usr/local/lib/python3.10/dist-packages (from tensorflow) (1.14.1)\n",
            "Requirement already satisfied: grpcio<2.0,>=1.24.3 in /usr/local/lib/python3.10/dist-packages (from tensorflow) (1.62.1)\n",
            "Requirement already satisfied: tensorboard<2.17,>=2.16 in /usr/local/lib/python3.10/dist-packages (from tensorflow) (2.16.2)\n",
            "Requirement already satisfied: tensorflow-io-gcs-filesystem>=0.23.1 in /usr/local/lib/python3.10/dist-packages (from tensorflow) (0.36.0)\n",
            "Requirement already satisfied: numpy<2.0.0,>=1.23.5 in /usr/local/lib/python3.10/dist-packages (from tensorflow) (1.25.2)\n",
            "Requirement already satisfied: rich in /usr/local/lib/python3.10/dist-packages (from keras) (13.7.1)\n",
            "Requirement already satisfied: namex in /usr/local/lib/python3.10/dist-packages (from keras) (0.0.7)\n",
            "Requirement already satisfied: optree in /usr/local/lib/python3.10/dist-packages (from keras) (0.11.0)\n",
            "Requirement already satisfied: wheel<1.0,>=0.23.0 in /usr/local/lib/python3.10/dist-packages (from astunparse>=1.6.0->tensorflow) (0.43.0)\n",
            "Requirement already satisfied: charset-normalizer<4,>=2 in /usr/local/lib/python3.10/dist-packages (from requests<3,>=2.21.0->tensorflow) (3.3.2)\n",
            "Requirement already satisfied: idna<4,>=2.5 in /usr/local/lib/python3.10/dist-packages (from requests<3,>=2.21.0->tensorflow) (3.6)\n",
            "Requirement already satisfied: urllib3<3,>=1.21.1 in /usr/local/lib/python3.10/dist-packages (from requests<3,>=2.21.0->tensorflow) (2.0.7)\n",
            "Requirement already satisfied: certifi>=2017.4.17 in /usr/local/lib/python3.10/dist-packages (from requests<3,>=2.21.0->tensorflow) (2024.2.2)\n",
            "Requirement already satisfied: markdown>=2.6.8 in /usr/local/lib/python3.10/dist-packages (from tensorboard<2.17,>=2.16->tensorflow) (3.6)\n",
            "Requirement already satisfied: tensorboard-data-server<0.8.0,>=0.7.0 in /usr/local/lib/python3.10/dist-packages (from tensorboard<2.17,>=2.16->tensorflow) (0.7.2)\n",
            "Requirement already satisfied: werkzeug>=1.0.1 in /usr/local/lib/python3.10/dist-packages (from tensorboard<2.17,>=2.16->tensorflow) (3.0.2)\n",
            "Requirement already satisfied: markdown-it-py>=2.2.0 in /usr/local/lib/python3.10/dist-packages (from rich->keras) (3.0.0)\n",
            "Requirement already satisfied: pygments<3.0.0,>=2.13.0 in /usr/local/lib/python3.10/dist-packages (from rich->keras) (2.16.1)\n",
            "Requirement already satisfied: mdurl~=0.1 in /usr/local/lib/python3.10/dist-packages (from markdown-it-py>=2.2.0->rich->keras) (0.1.2)\n",
            "Requirement already satisfied: MarkupSafe>=2.1.1 in /usr/local/lib/python3.10/dist-packages (from werkzeug>=1.0.1->tensorboard<2.17,>=2.16->tensorflow) (2.1.5)\n"
          ]
        }
      ],
      "source": [
        "!pip install --upgrade tensorflow keras"
      ]
    },
    {
      "cell_type": "code",
      "execution_count": null,
      "metadata": {
        "id": "B094SRabqihD"
      },
      "outputs": [],
      "source": [
        "from keras.models import Sequential\n",
        "from keras.layers import LSTM, Dense\n",
        "from sklearn.model_selection import GridSearchCV\n",
        "from sklearn.metrics import mean_squared_error\n",
        "from sklearn.model_selection import TimeSeriesSplit\n",
        "from sklearn.model_selection import cross_val_score\n",
        "from sklearn.base import BaseEstimator\n",
        "import numpy as np\n",
        "\n",
        "# Define the LSTM model\n",
        "def create_lstm_model(units=50, input_shape=(trainX.shape[1], trainX.shape[2])):\n",
        "    model = Sequential()\n",
        "    model.add(LSTM(units, input_shape=input_shape))\n",
        "    model.add(Dense(1))\n",
        "    model.compile(loss='mean_squared_error', optimizer='adam')\n",
        "    return model\n",
        "\n",
        "# Define a custom wrapper class for the Keras model\n",
        "class KerasRegressor(BaseEstimator):\n",
        "    def __init__(self, units=50, batch_size=32, epochs=10):\n",
        "        self.units = units\n",
        "        self.batch_size = batch_size\n",
        "        self.epochs = epochs\n",
        "\n",
        "    def fit(self, X, y):\n",
        "        self.model = create_lstm_model(units=self.units)\n",
        "        self.model.fit(X, y, batch_size=self.batch_size, epochs=self.epochs, verbose=0)\n",
        "        return self\n",
        "\n",
        "    def predict(self, X):\n",
        "        return self.model.predict(X)\n",
        "\n",
        "# Create the model\n",
        "model = KerasRegressor()\n",
        "\n",
        "# Define hyperparameters for grid search\n",
        "param_grid = {\n",
        "    'units': [50, 100, 150],\n",
        "    'batch_size': [32, 64, 128],\n",
        "    'epochs': [10, 20, 30]\n",
        "}\n",
        "\n",
        "# Create a TimeSeriesSplit cross-validator\n",
        "tscv = TimeSeriesSplit(n_splits=3)\n",
        "\n",
        "# Grid search for hyperparameter tuning\n",
        "grid_search = GridSearchCV(estimator=model, param_grid=param_grid, scoring='neg_mean_squared_error', cv=tscv, verbose=1)\n",
        "\n",
        "# Fit the grid search to your training data\n",
        "grid_search.fit(trainX, trainY)\n",
        "\n",
        "# Print the best parameters and their corresponding MSE\n",
        "print(\"Best Parameters: \", grid_search.best_params_)\n",
        "print(\"Best MSE: \", -grid_search.best_score_)\n",
        "\n",
        "# Evaluate the best model on the test data\n",
        "best_model = grid_search.best_estimator_\n",
        "test_predictions = best_model.predict(testX)\n",
        "test_mse = mean_squared_error(testY, test_predictions)\n",
        "print(\"Test MSE for the best model: \", test_mse)"
      ]
    },
    {
      "cell_type": "code",
      "source": [
        "!pip install -q -U keras-tuner"
      ],
      "metadata": {
        "colab": {
          "base_uri": "https://localhost:8080/"
        },
        "id": "SxpNCk1v3u62",
        "outputId": "01fa4055-a3e7-44e4-af81-bd2803bcd38b"
      },
      "execution_count": 14,
      "outputs": [
        {
          "output_type": "stream",
          "name": "stdout",
          "text": [
            "\u001b[?25l     \u001b[90m━━━━━━━━━━━━━━━━━━━━━━━━━━━━━━━━━━━━━━━━\u001b[0m \u001b[32m0.0/129.1 kB\u001b[0m \u001b[31m?\u001b[0m eta \u001b[36m-:--:--\u001b[0m\r\u001b[2K     \u001b[91m━━━━━━━━━\u001b[0m\u001b[91m╸\u001b[0m\u001b[90m━━━━━━━━━━━━━━━━━━━━━━━━━━━━━━\u001b[0m \u001b[32m30.7/129.1 kB\u001b[0m \u001b[31m1.4 MB/s\u001b[0m eta \u001b[36m0:00:01\u001b[0m\r\u001b[2K     \u001b[91m━━━━━━━━━━━━━━━━━━━━━━━━━━━━\u001b[0m\u001b[91m╸\u001b[0m\u001b[90m━━━━━━━━━━━\u001b[0m \u001b[32m92.2/129.1 kB\u001b[0m \u001b[31m1.4 MB/s\u001b[0m eta \u001b[36m0:00:01\u001b[0m\r\u001b[2K     \u001b[90m━━━━━━━━━━━━━━━━━━━━━━━━━━━━━━━━━━━━━━━━\u001b[0m \u001b[32m129.1/129.1 kB\u001b[0m \u001b[31m1.4 MB/s\u001b[0m eta \u001b[36m0:00:00\u001b[0m\n",
            "\u001b[?25h"
          ]
        }
      ]
    },
    {
      "cell_type": "code",
      "source": [
        "from keras.models import Sequential\n",
        "from keras.layers import LSTM, Dense\n",
        "from sklearn.model_selection import GridSearchCV\n",
        "from sklearn.metrics import mean_squared_error\n",
        "from sklearn.model_selection import TimeSeriesSplit\n",
        "from sklearn.model_selection import cross_val_score\n",
        "from sklearn.base import BaseEstimator\n",
        "import numpy as np\n",
        "import keras_tuner as kt\n",
        "import tensorflow as tf\n",
        "\n",
        "def build_hypermodel(hp):\n",
        "  model = Sequential()\n",
        "  model.add(LSTM(units=hp.Int('units', min_value=50, max_value=150, step=50),\n",
        "                   input_shape=(trainX.shape[1], trainX.shape[2])))\n",
        "  model.add(Dense(1))\n",
        "  model.compile(loss='mean_squared_error', optimizer='adam')\n",
        "  return model\n",
        "\n",
        "tuner = kt.RandomSearch(build_hypermodel,\n",
        "                     objective='val_loss',\n",
        "                     max_trials=10,\n",
        "                     executions_per_trial=1,\n",
        "                     directory='tuning_dir',\n",
        "                     project_name='lstm_tuning')\n",
        "\n",
        "tuner.search(trainX, trainY, epochs=30, validation_split=0.2,)\n",
        "best_hps = tuner.get_best_hyperparameters(num_trials=1)[0]\n",
        "best_model = tuner.hypermodel.build(best_hps)\n",
        "best_model.fit(trainX, trainY, epochs=30, validation_split=0.2)\n",
        "\n",
        "# val_acc_per_epoch = history.history['val_loss']\n",
        "# best_epoch = val_acc_per_epoch.index(max(val_acc_per_epoch)) + 1\n",
        "# print('Best epoch: %d' % (best_epoch,))"
      ],
      "metadata": {
        "colab": {
          "base_uri": "https://localhost:8080/"
        },
        "id": "mn8y1QOcthNz",
        "outputId": "3d6668ae-6687-401c-9c6e-f3d43fde2ae9"
      },
      "execution_count": 28,
      "outputs": [
        {
          "output_type": "stream",
          "name": "stdout",
          "text": [
            "Reloading Tuner from tuning_dir/lstm_tuning/tuner0.json\n",
            "Epoch 1/30\n",
            "\u001b[1m9/9\u001b[0m \u001b[32m━━━━━━━━━━━━━━━━━━━━\u001b[0m\u001b[37m\u001b[0m \u001b[1m2s\u001b[0m 43ms/step - loss: 0.1223 - val_loss: 0.0210\n",
            "Epoch 2/30\n",
            "\u001b[1m9/9\u001b[0m \u001b[32m━━━━━━━━━━━━━━━━━━━━\u001b[0m\u001b[37m\u001b[0m \u001b[1m0s\u001b[0m 11ms/step - loss: 0.0302 - val_loss: 0.0063\n",
            "Epoch 3/30\n",
            "\u001b[1m9/9\u001b[0m \u001b[32m━━━━━━━━━━━━━━━━━━━━\u001b[0m\u001b[37m\u001b[0m \u001b[1m0s\u001b[0m 12ms/step - loss: 0.0102 - val_loss: 0.0058\n",
            "Epoch 4/30\n",
            "\u001b[1m9/9\u001b[0m \u001b[32m━━━━━━━━━━━━━━━━━━━━\u001b[0m\u001b[37m\u001b[0m \u001b[1m0s\u001b[0m 12ms/step - loss: 0.0116 - val_loss: 0.0056\n",
            "Epoch 5/30\n",
            "\u001b[1m9/9\u001b[0m \u001b[32m━━━━━━━━━━━━━━━━━━━━\u001b[0m\u001b[37m\u001b[0m \u001b[1m0s\u001b[0m 13ms/step - loss: 0.0080 - val_loss: 0.0064\n",
            "Epoch 6/30\n",
            "\u001b[1m9/9\u001b[0m \u001b[32m━━━━━━━━━━━━━━━━━━━━\u001b[0m\u001b[37m\u001b[0m \u001b[1m0s\u001b[0m 13ms/step - loss: 0.0082 - val_loss: 0.0047\n",
            "Epoch 7/30\n",
            "\u001b[1m9/9\u001b[0m \u001b[32m━━━━━━━━━━━━━━━━━━━━\u001b[0m\u001b[37m\u001b[0m \u001b[1m0s\u001b[0m 14ms/step - loss: 0.0091 - val_loss: 0.0048\n",
            "Epoch 8/30\n",
            "\u001b[1m9/9\u001b[0m \u001b[32m━━━━━━━━━━━━━━━━━━━━\u001b[0m\u001b[37m\u001b[0m \u001b[1m0s\u001b[0m 14ms/step - loss: 0.0070 - val_loss: 0.0048\n",
            "Epoch 9/30\n",
            "\u001b[1m9/9\u001b[0m \u001b[32m━━━━━━━━━━━━━━━━━━━━\u001b[0m\u001b[37m\u001b[0m \u001b[1m0s\u001b[0m 14ms/step - loss: 0.0069 - val_loss: 0.0046\n",
            "Epoch 10/30\n",
            "\u001b[1m9/9\u001b[0m \u001b[32m━━━━━━━━━━━━━━━━━━━━\u001b[0m\u001b[37m\u001b[0m \u001b[1m0s\u001b[0m 13ms/step - loss: 0.0065 - val_loss: 0.0046\n",
            "Epoch 11/30\n",
            "\u001b[1m9/9\u001b[0m \u001b[32m━━━━━━━━━━━━━━━━━━━━\u001b[0m\u001b[37m\u001b[0m \u001b[1m0s\u001b[0m 10ms/step - loss: 0.0064 - val_loss: 0.0045\n",
            "Epoch 12/30\n",
            "\u001b[1m9/9\u001b[0m \u001b[32m━━━━━━━━━━━━━━━━━━━━\u001b[0m\u001b[37m\u001b[0m \u001b[1m0s\u001b[0m 10ms/step - loss: 0.0066 - val_loss: 0.0044\n",
            "Epoch 13/30\n",
            "\u001b[1m9/9\u001b[0m \u001b[32m━━━━━━━━━━━━━━━━━━━━\u001b[0m\u001b[37m\u001b[0m \u001b[1m0s\u001b[0m 10ms/step - loss: 0.0054 - val_loss: 0.0044\n",
            "Epoch 14/30\n",
            "\u001b[1m9/9\u001b[0m \u001b[32m━━━━━━━━━━━━━━━━━━━━\u001b[0m\u001b[37m\u001b[0m \u001b[1m0s\u001b[0m 12ms/step - loss: 0.0065 - val_loss: 0.0043\n",
            "Epoch 15/30\n",
            "\u001b[1m9/9\u001b[0m \u001b[32m━━━━━━━━━━━━━━━━━━━━\u001b[0m\u001b[37m\u001b[0m \u001b[1m0s\u001b[0m 8ms/step - loss: 0.0064 - val_loss: 0.0043\n",
            "Epoch 16/30\n",
            "\u001b[1m9/9\u001b[0m \u001b[32m━━━━━━━━━━━━━━━━━━━━\u001b[0m\u001b[37m\u001b[0m \u001b[1m0s\u001b[0m 8ms/step - loss: 0.0060 - val_loss: 0.0042\n",
            "Epoch 17/30\n",
            "\u001b[1m9/9\u001b[0m \u001b[32m━━━━━━━━━━━━━━━━━━━━\u001b[0m\u001b[37m\u001b[0m \u001b[1m0s\u001b[0m 9ms/step - loss: 0.0060 - val_loss: 0.0042\n",
            "Epoch 18/30\n",
            "\u001b[1m9/9\u001b[0m \u001b[32m━━━━━━━━━━━━━━━━━━━━\u001b[0m\u001b[37m\u001b[0m \u001b[1m0s\u001b[0m 10ms/step - loss: 0.0068 - val_loss: 0.0041\n",
            "Epoch 19/30\n",
            "\u001b[1m9/9\u001b[0m \u001b[32m━━━━━━━━━━━━━━━━━━━━\u001b[0m\u001b[37m\u001b[0m \u001b[1m0s\u001b[0m 10ms/step - loss: 0.0057 - val_loss: 0.0040\n",
            "Epoch 20/30\n",
            "\u001b[1m9/9\u001b[0m \u001b[32m━━━━━━━━━━━━━━━━━━━━\u001b[0m\u001b[37m\u001b[0m \u001b[1m0s\u001b[0m 8ms/step - loss: 0.0066 - val_loss: 0.0039\n",
            "Epoch 21/30\n",
            "\u001b[1m9/9\u001b[0m \u001b[32m━━━━━━━━━━━━━━━━━━━━\u001b[0m\u001b[37m\u001b[0m \u001b[1m0s\u001b[0m 10ms/step - loss: 0.0058 - val_loss: 0.0041\n",
            "Epoch 22/30\n",
            "\u001b[1m9/9\u001b[0m \u001b[32m━━━━━━━━━━━━━━━━━━━━\u001b[0m\u001b[37m\u001b[0m \u001b[1m0s\u001b[0m 10ms/step - loss: 0.0060 - val_loss: 0.0038\n",
            "Epoch 23/30\n",
            "\u001b[1m9/9\u001b[0m \u001b[32m━━━━━━━━━━━━━━━━━━━━\u001b[0m\u001b[37m\u001b[0m \u001b[1m0s\u001b[0m 8ms/step - loss: 0.0063 - val_loss: 0.0038\n",
            "Epoch 24/30\n",
            "\u001b[1m9/9\u001b[0m \u001b[32m━━━━━━━━━━━━━━━━━━━━\u001b[0m\u001b[37m\u001b[0m \u001b[1m0s\u001b[0m 10ms/step - loss: 0.0052 - val_loss: 0.0037\n",
            "Epoch 25/30\n",
            "\u001b[1m9/9\u001b[0m \u001b[32m━━━━━━━━━━━━━━━━━━━━\u001b[0m\u001b[37m\u001b[0m \u001b[1m0s\u001b[0m 9ms/step - loss: 0.0051 - val_loss: 0.0038\n",
            "Epoch 26/30\n",
            "\u001b[1m9/9\u001b[0m \u001b[32m━━━━━━━━━━━━━━━━━━━━\u001b[0m\u001b[37m\u001b[0m \u001b[1m0s\u001b[0m 9ms/step - loss: 0.0068 - val_loss: 0.0036\n",
            "Epoch 27/30\n",
            "\u001b[1m9/9\u001b[0m \u001b[32m━━━━━━━━━━━━━━━━━━━━\u001b[0m\u001b[37m\u001b[0m \u001b[1m0s\u001b[0m 9ms/step - loss: 0.0049 - val_loss: 0.0036\n",
            "Epoch 28/30\n",
            "\u001b[1m9/9\u001b[0m \u001b[32m━━━━━━━━━━━━━━━━━━━━\u001b[0m\u001b[37m\u001b[0m \u001b[1m0s\u001b[0m 10ms/step - loss: 0.0055 - val_loss: 0.0038\n",
            "Epoch 29/30\n",
            "\u001b[1m9/9\u001b[0m \u001b[32m━━━━━━━━━━━━━━━━━━━━\u001b[0m\u001b[37m\u001b[0m \u001b[1m0s\u001b[0m 10ms/step - loss: 0.0052 - val_loss: 0.0034\n",
            "Epoch 30/30\n",
            "\u001b[1m9/9\u001b[0m \u001b[32m━━━━━━━━━━━━━━━━━━━━\u001b[0m\u001b[37m\u001b[0m \u001b[1m0s\u001b[0m 10ms/step - loss: 0.0054 - val_loss: 0.0037\n"
          ]
        },
        {
          "output_type": "execute_result",
          "data": {
            "text/plain": [
              "<keras.src.callbacks.history.History at 0x7961f72bb460>"
            ]
          },
          "metadata": {},
          "execution_count": 28
        }
      ]
    },
    {
      "cell_type": "code",
      "source": [
        "# Evaluate the best model on the test data\n",
        "test_predictions = best_model.predict(testX)\n",
        "test_mse = mean_squared_error(testY, test_predictions)\n",
        "print(\"Test MSE for the best model: \", test_mse)"
      ],
      "metadata": {
        "colab": {
          "base_uri": "https://localhost:8080/"
        },
        "id": "bHaBV29qA2yJ",
        "outputId": "171af7be-1187-42a8-8f7d-da6d3701ab96"
      },
      "execution_count": 30,
      "outputs": [
        {
          "output_type": "stream",
          "name": "stdout",
          "text": [
            "\u001b[1m2/2\u001b[0m \u001b[32m━━━━━━━━━━━━━━━━━━━━\u001b[0m\u001b[37m\u001b[0m \u001b[1m0s\u001b[0m 5ms/step \n",
            "Test MSE for the best model:  0.011070248260275752\n"
          ]
        }
      ]
    },
    {
      "cell_type": "code",
      "source": [
        "# hypermodel = tuner.hypermodel.build(best_hps)\n",
        "\n",
        "# hypermodel.fit(trainX, trainY, epochs=best_epoch, validation_split=0.2)\n",
        "\n",
        "# test_predictions = hypermodel.predict(testX)\n",
        "# test_mse = mean_squared_error(testY, test_predictions)\n",
        "# print(\"Test MSE for the best model: \", test_mse)"
      ],
      "metadata": {
        "colab": {
          "base_uri": "https://localhost:8080/"
        },
        "id": "CUS0zWXO0Aod",
        "outputId": "79e9e44a-0dba-4ec5-b0ef-8c0a3ead91c9"
      },
      "execution_count": 17,
      "outputs": [
        {
          "output_type": "stream",
          "name": "stdout",
          "text": [
            "\u001b[1m9/9\u001b[0m \u001b[32m━━━━━━━━━━━━━━━━━━━━\u001b[0m\u001b[37m\u001b[0m \u001b[1m1s\u001b[0m 30ms/step - loss: 0.1996 - val_loss: 0.0284\n",
            "\u001b[1m2/2\u001b[0m \u001b[32m━━━━━━━━━━━━━━━━━━━━\u001b[0m\u001b[37m\u001b[0m \u001b[1m0s\u001b[0m 102ms/step\n",
            "Test MSE for the best model:  0.06398021404966353\n"
          ]
        }
      ]
    },
    {
      "cell_type": "code",
      "execution_count": 31,
      "metadata": {
        "colab": {
          "base_uri": "https://localhost:8080/"
        },
        "id": "SLmRrK9UqwnW",
        "outputId": "5ed8a7ab-d19d-4742-85dc-b85898d7fdb8"
      },
      "outputs": [
        {
          "output_type": "stream",
          "name": "stdout",
          "text": [
            "prediction\n",
            " [[0.5816965 ]\n",
            " [0.5661729 ]\n",
            " [0.5400697 ]\n",
            " [0.52592635]\n",
            " [0.5120383 ]\n",
            " [0.5500967 ]\n",
            " [0.55835927]\n",
            " [0.5405063 ]\n",
            " [0.5349782 ]\n",
            " [0.53329927]\n",
            " [0.5602012 ]\n",
            " [0.56880134]\n",
            " [0.5499696 ]\n",
            " [0.52437115]\n",
            " [0.5178063 ]\n",
            " [0.504033  ]\n",
            " [0.49221244]\n",
            " [0.49783596]\n",
            " [0.48513255]\n",
            " [0.4909602 ]\n",
            " [0.5429559 ]\n",
            " [0.590167  ]\n",
            " [0.64557374]\n",
            " [0.64770234]\n",
            " [0.63716453]\n",
            " [0.6121315 ]\n",
            " [0.6043824 ]\n",
            " [0.5941699 ]\n",
            " [0.59630007]\n",
            " [0.60341096]\n",
            " [0.5947178 ]\n",
            " [0.6085468 ]\n",
            " [0.6028148 ]\n",
            " [0.62133604]\n",
            " [0.62635934]\n",
            " [0.66003704]\n",
            " [0.67983985]\n",
            " [0.6696692 ]\n",
            " [0.66017455]\n",
            " [0.6306568 ]\n",
            " [0.5985898 ]\n",
            " [0.55912167]\n",
            " [0.50206953]\n",
            " [0.45255846]\n",
            " [0.41017005]\n",
            " [0.3251756 ]\n",
            " [0.24494594]\n",
            " [0.1688269 ]\n",
            " [0.12153784]\n",
            " [0.18947686]\n",
            " [0.24880978]\n",
            " [0.25215796]\n",
            " [0.28466943]\n",
            " [0.2795736 ]\n",
            " [0.24286036]\n",
            " [0.223619  ]\n",
            " [0.20875333]]\n",
            "\n",
            "Prediction Shape- (57, 1)\n"
          ]
        }
      ],
      "source": [
        "print(\"prediction\\n\", test_predictions)\n",
        "print(\"\\nPrediction Shape-\",test_predictions.shape)"
      ]
    },
    {
      "cell_type": "code",
      "execution_count": 32,
      "metadata": {
        "colab": {
          "base_uri": "https://localhost:8080/"
        },
        "id": "J06HUlZFynSp",
        "outputId": "30c08fec-8e92-4b93-9adc-1e31fa4d7136"
      },
      "outputs": [
        {
          "output_type": "execute_result",
          "data": {
            "text/plain": [
              "(57, 4)"
            ]
          },
          "metadata": {},
          "execution_count": 32
        }
      ],
      "source": [
        "prediction_copies_array = np.repeat(test_predictions,4, axis=-1)\n",
        "prediction_copies_array.shape"
      ]
    },
    {
      "cell_type": "code",
      "execution_count": 33,
      "metadata": {
        "colab": {
          "base_uri": "https://localhost:8080/"
        },
        "id": "ESpqKwbGy3Sh",
        "outputId": "54f961a8-10d8-42a1-80ba-ce033d057011"
      },
      "outputs": [
        {
          "output_type": "execute_result",
          "data": {
            "text/plain": [
              "array([[0.5816965 , 0.5816965 , 0.5816965 , 0.5816965 ],\n",
              "       [0.5661729 , 0.5661729 , 0.5661729 , 0.5661729 ],\n",
              "       [0.5400697 , 0.5400697 , 0.5400697 , 0.5400697 ],\n",
              "       [0.52592635, 0.52592635, 0.52592635, 0.52592635],\n",
              "       [0.5120383 , 0.5120383 , 0.5120383 , 0.5120383 ],\n",
              "       [0.5500967 , 0.5500967 , 0.5500967 , 0.5500967 ],\n",
              "       [0.55835927, 0.55835927, 0.55835927, 0.55835927],\n",
              "       [0.5405063 , 0.5405063 , 0.5405063 , 0.5405063 ],\n",
              "       [0.5349782 , 0.5349782 , 0.5349782 , 0.5349782 ],\n",
              "       [0.53329927, 0.53329927, 0.53329927, 0.53329927],\n",
              "       [0.5602012 , 0.5602012 , 0.5602012 , 0.5602012 ],\n",
              "       [0.56880134, 0.56880134, 0.56880134, 0.56880134],\n",
              "       [0.5499696 , 0.5499696 , 0.5499696 , 0.5499696 ],\n",
              "       [0.52437115, 0.52437115, 0.52437115, 0.52437115],\n",
              "       [0.5178063 , 0.5178063 , 0.5178063 , 0.5178063 ],\n",
              "       [0.504033  , 0.504033  , 0.504033  , 0.504033  ],\n",
              "       [0.49221244, 0.49221244, 0.49221244, 0.49221244],\n",
              "       [0.49783596, 0.49783596, 0.49783596, 0.49783596],\n",
              "       [0.48513255, 0.48513255, 0.48513255, 0.48513255],\n",
              "       [0.4909602 , 0.4909602 , 0.4909602 , 0.4909602 ],\n",
              "       [0.5429559 , 0.5429559 , 0.5429559 , 0.5429559 ],\n",
              "       [0.590167  , 0.590167  , 0.590167  , 0.590167  ],\n",
              "       [0.64557374, 0.64557374, 0.64557374, 0.64557374],\n",
              "       [0.64770234, 0.64770234, 0.64770234, 0.64770234],\n",
              "       [0.63716453, 0.63716453, 0.63716453, 0.63716453],\n",
              "       [0.6121315 , 0.6121315 , 0.6121315 , 0.6121315 ],\n",
              "       [0.6043824 , 0.6043824 , 0.6043824 , 0.6043824 ],\n",
              "       [0.5941699 , 0.5941699 , 0.5941699 , 0.5941699 ],\n",
              "       [0.59630007, 0.59630007, 0.59630007, 0.59630007],\n",
              "       [0.60341096, 0.60341096, 0.60341096, 0.60341096],\n",
              "       [0.5947178 , 0.5947178 , 0.5947178 , 0.5947178 ],\n",
              "       [0.6085468 , 0.6085468 , 0.6085468 , 0.6085468 ],\n",
              "       [0.6028148 , 0.6028148 , 0.6028148 , 0.6028148 ],\n",
              "       [0.62133604, 0.62133604, 0.62133604, 0.62133604],\n",
              "       [0.62635934, 0.62635934, 0.62635934, 0.62635934],\n",
              "       [0.66003704, 0.66003704, 0.66003704, 0.66003704],\n",
              "       [0.67983985, 0.67983985, 0.67983985, 0.67983985],\n",
              "       [0.6696692 , 0.6696692 , 0.6696692 , 0.6696692 ],\n",
              "       [0.66017455, 0.66017455, 0.66017455, 0.66017455],\n",
              "       [0.6306568 , 0.6306568 , 0.6306568 , 0.6306568 ],\n",
              "       [0.5985898 , 0.5985898 , 0.5985898 , 0.5985898 ],\n",
              "       [0.55912167, 0.55912167, 0.55912167, 0.55912167],\n",
              "       [0.50206953, 0.50206953, 0.50206953, 0.50206953],\n",
              "       [0.45255846, 0.45255846, 0.45255846, 0.45255846],\n",
              "       [0.41017005, 0.41017005, 0.41017005, 0.41017005],\n",
              "       [0.3251756 , 0.3251756 , 0.3251756 , 0.3251756 ],\n",
              "       [0.24494594, 0.24494594, 0.24494594, 0.24494594],\n",
              "       [0.1688269 , 0.1688269 , 0.1688269 , 0.1688269 ],\n",
              "       [0.12153784, 0.12153784, 0.12153784, 0.12153784],\n",
              "       [0.18947686, 0.18947686, 0.18947686, 0.18947686],\n",
              "       [0.24880978, 0.24880978, 0.24880978, 0.24880978],\n",
              "       [0.25215796, 0.25215796, 0.25215796, 0.25215796],\n",
              "       [0.28466943, 0.28466943, 0.28466943, 0.28466943],\n",
              "       [0.2795736 , 0.2795736 , 0.2795736 , 0.2795736 ],\n",
              "       [0.24286036, 0.24286036, 0.24286036, 0.24286036],\n",
              "       [0.223619  , 0.223619  , 0.223619  , 0.223619  ],\n",
              "       [0.20875333, 0.20875333, 0.20875333, 0.20875333]], dtype=float32)"
            ]
          },
          "metadata": {},
          "execution_count": 33
        }
      ],
      "source": [
        "prediction_copies_array"
      ]
    },
    {
      "cell_type": "code",
      "execution_count": 34,
      "metadata": {
        "colab": {
          "base_uri": "https://localhost:8080/"
        },
        "id": "OAJgWcKizGfk",
        "outputId": "0253b84d-7459-46ff-950f-8021b2562c71"
      },
      "outputs": [
        {
          "output_type": "execute_result",
          "data": {
            "text/plain": [
              "array([3766.4688, 3756.689 , 3740.244 , 3731.3337, 3722.584 , 3746.561 ,\n",
              "       3751.766 , 3740.519 , 3737.0364, 3735.9785, 3752.9268, 3758.3447,\n",
              "       3746.481 , 3730.3538, 3726.218 , 3717.5408, 3710.0938, 3713.6367,\n",
              "       3705.6335, 3709.305 , 3742.0623, 3771.8052, 3806.7114, 3808.0522,\n",
              "       3801.4136, 3785.6428, 3780.761 , 3774.3271, 3775.669 , 3780.149 ,\n",
              "       3774.6724, 3783.3843, 3779.7732, 3791.4417, 3794.6064, 3815.8232,\n",
              "       3828.2993, 3821.8916, 3815.9102, 3797.3137, 3777.1116, 3752.2466,\n",
              "       3716.3037, 3685.1118, 3658.407 , 3604.8606, 3554.316 , 3506.361 ,\n",
              "       3476.569 , 3519.3704, 3556.7502, 3558.8596, 3579.3416, 3576.131 ,\n",
              "       3553.002 , 3540.88  , 3531.5146], dtype=float32)"
            ]
          },
          "metadata": {},
          "execution_count": 34
        }
      ],
      "source": [
        "pred=scaler.inverse_transform(np.reshape(prediction_copies_array,(len(test_predictions),4)))[:,0]\n",
        "pred"
      ]
    },
    {
      "cell_type": "code",
      "execution_count": 35,
      "metadata": {
        "id": "i_VWH-CUzLaO"
      },
      "outputs": [],
      "source": [
        "original_copies_array = np.repeat(testY,4, axis=-1)\n",
        "\n",
        "original_copies_array.shape\n",
        "\n",
        "original=scaler.inverse_transform(np.reshape(original_copies_array,(len(testY),4)))[:,0]"
      ]
    },
    {
      "cell_type": "code",
      "execution_count": 36,
      "metadata": {
        "colab": {
          "base_uri": "https://localhost:8080/"
        },
        "id": "wpbMAK8pzU7w",
        "outputId": "5dd778e3-6c0a-4a27-eb23-8b8498dc785e"
      },
      "outputs": [
        {
          "output_type": "stream",
          "name": "stdout",
          "text": [
            "Pred Values--  [3766.4688 3756.689  3740.244  3731.3337 3722.584  3746.561  3751.766\n",
            " 3740.519  3737.0364 3735.9785 3752.9268 3758.3447 3746.481  3730.3538\n",
            " 3726.218  3717.5408 3710.0938 3713.6367 3705.6335 3709.305  3742.0623\n",
            " 3771.8052 3806.7114 3808.0522 3801.4136 3785.6428 3780.761  3774.3271\n",
            " 3775.669  3780.149  3774.6724 3783.3843 3779.7732 3791.4417 3794.6064\n",
            " 3815.8232 3828.2993 3821.8916 3815.9102 3797.3137 3777.1116 3752.2466\n",
            " 3716.3037 3685.1118 3658.407  3604.8606 3554.316  3506.361  3476.569\n",
            " 3519.3704 3556.7502 3558.8596 3579.3416 3576.131  3553.002  3540.88\n",
            " 3531.5146]\n",
            "\n",
            "Original Values--  [3725.86206897 3725.86206897 3704.13793103 3725.86206897 3823.62068966\n",
            " 3736.72413793 3725.86206897 3736.72413793 3747.5862069  3801.89655172\n",
            " 3769.31034483 3693.27586207 3704.13793103 3715.         3715.\n",
            " 3682.4137931  3725.86206897 3682.4137931  3736.72413793 3823.62068966\n",
            " 3823.62068966 3877.93103448 3780.17241379 3769.31034483 3725.86206897\n",
            " 3758.44827586 3758.44827586 3780.17241379 3791.03448276 3725.86206897\n",
            " 3791.03448276 3769.31034483 3823.62068966 3791.03448276 3845.34482759\n",
            " 3867.06896552 3769.31034483 3801.89655172 3758.44827586 3736.72413793\n",
            " 3704.13793103 3606.37931034 3649.82758621 3595.51724138 3465.17241379\n",
            " 3486.89655172 3400.         3476.03448276 3617.24137931 3617.24137931\n",
            " 3562.93103448 3649.82758621 3562.93103448 3508.62068966 3519.48275862\n",
            " 3541.20689655 3508.62068966]\n"
          ]
        }
      ],
      "source": [
        "print(\"Pred Values-- \" ,pred)\n",
        "print(\"\\nOriginal Values-- \",original)"
      ]
    },
    {
      "cell_type": "code",
      "execution_count": 37,
      "metadata": {
        "colab": {
          "base_uri": "https://localhost:8080/",
          "height": 564
        },
        "id": "0wsiBAcvzXTo",
        "outputId": "152dc2f3-7d50-49b3-bb5b-d71237708bb7"
      },
      "outputs": [
        {
          "output_type": "display_data",
          "data": {
            "text/plain": [
              "<Figure size 1200x600 with 1 Axes>"
            ],
            "image/png": "[encoded data removed]"
          },
          "metadata": {}
        }
      ],
      "source": [
        "import matplotlib.pyplot as plt\n",
        "\n",
        "# Plot the range by date\n",
        "plt.figure(figsize=(12, 6))\n",
        "plt.plot(data.index[-len(original):], original, color='red', label='Real Stock Price')\n",
        "plt.plot(data.index[-len(pred):], pred, color='blue', label='Predicted Stock Price')\n",
        "plt.title('Stock Price Forecasting')\n",
        "plt.xlabel('Date')\n",
        "plt.ylabel('Stock Price')\n",
        "plt.legend()\n",
        "plt.grid(True)\n",
        "plt.show()"
      ]
    },
    {
      "cell_type": "markdown",
      "metadata": {
        "id": "4gLyBzi1eFyz"
      },
      "source": [
        "# 30 Day Dataset Generated By LSTM"
      ]
    },
    {
      "cell_type": "code",
      "execution_count": 38,
      "metadata": {
        "id": "kNpYbLDj1m1H"
      },
      "outputs": [],
      "source": [
        "def extend_dataset_with_future(dataset, n_future):\n",
        "    extended_dataset = np.copy(dataset)\n",
        "\n",
        "    for i in range(1, n_future + 1):\n",
        "        # Tambahkan data baru untuk setiap hari ke depan\n",
        "        new_data_point = dataset[-i, :]  # Menggunakan data terakhir sebagai referensi\n",
        "        extended_dataset = np.vstack([extended_dataset, new_data_point])\n",
        "\n",
        "    return extended_dataset"
      ]
    },
    {
      "cell_type": "code",
      "execution_count": 39,
      "metadata": {
        "colab": {
          "base_uri": "https://localhost:8080/"
        },
        "id": "6JjrHEYa3taa",
        "outputId": "74d92e38-e7be-48c1-fa71-3c8929ec8d95"
      },
      "outputs": [
        {
          "output_type": "stream",
          "name": "stdout",
          "text": [
            "trainX Shape--  (381, 40, 4)\n",
            "trainY Shape--  (381,)\n"
          ]
        }
      ],
      "source": [
        "extended_train = extend_dataset_with_future(scaled_training, 31)\n",
        "trainnX,trainnY=createXY(extended_train, 40)\n",
        "print(\"trainX Shape-- \",trainnX.shape)\n",
        "print(\"trainY Shape-- \",trainnY.shape)"
      ]
    },
    {
      "cell_type": "code",
      "execution_count": 40,
      "metadata": {
        "colab": {
          "base_uri": "https://localhost:8080/"
        },
        "id": "KaSJfUTH3usa",
        "outputId": "f1834c49-151b-483f-bc01-4733c25a360d"
      },
      "outputs": [
        {
          "output_type": "stream",
          "name": "stdout",
          "text": [
            "testX Shape--  (88, 40, 4)\n",
            "testY Shape--  (88,)\n"
          ]
        }
      ],
      "source": [
        "extended_train = extend_dataset_with_future(scaled_testing, 31)\n",
        "testsX,testsY=createXY(extended_train,40)\n",
        "print(\"testX Shape-- \",testsX.shape)\n",
        "print(\"testY Shape-- \",testsY.shape)"
      ]
    },
    {
      "cell_type": "code",
      "execution_count": null,
      "metadata": {
        "id": "lYwvQG7j5WHB"
      },
      "outputs": [],
      "source": [
        "# Define the LSTM model\n",
        "def create_lstm_model(units=50, input_shape=(trainnX.shape[1], trainnX.shape[2])):\n",
        "    model = Sequential()\n",
        "    model.add(LSTM(units, input_shape=input_shape))\n",
        "    model.add(Dense(1))\n",
        "    model.compile(loss='mean_squared_error', optimizer='adam')\n",
        "    return model\n",
        "\n",
        "# Define a custom wrapper class for the Keras model\n",
        "class KerasRegressor(BaseEstimator):\n",
        "    def __init__(self, units=50, batch_size=32, epochs=10):\n",
        "        self.units = units\n",
        "        self.batch_size = batch_size\n",
        "        self.epochs = epochs\n",
        "\n",
        "    def fit(self, X, y):\n",
        "        self.model = create_lstm_model(units=self.units)\n",
        "        self.model.fit(X, y, batch_size=self.batch_size, epochs=self.epochs, verbose=0)\n",
        "        return self\n",
        "\n",
        "    def predict(self, X):\n",
        "        return self.model.predict(X)\n",
        "\n",
        "# Create the model\n",
        "model = KerasRegressor()\n",
        "\n",
        "# Define hyperparameters for grid search\n",
        "param_grid = {\n",
        "    'units': [50, 100, 150],\n",
        "    'batch_size': [32, 64, 128],\n",
        "    'epochs': [10, 20, 30]\n",
        "}\n",
        "\n",
        "# Create a TimeSeriesSplit cross-validator\n",
        "tscv = TimeSeriesSplit(n_splits=3)\n",
        "\n",
        "# Grid search for hyperparameter tuning\n",
        "grid_search = GridSearchCV(estimator=model, param_grid=param_grid, scoring='neg_mean_squared_error', cv=tscv, verbose=1)\n",
        "\n",
        "# Fit the grid search to your training data\n",
        "grid_search.fit(trainnX, trainnY)\n",
        "\n",
        "# Print the best parameters and their corresponding MSE\n",
        "print(\"Best Parameters: \", grid_search.best_params_)\n",
        "print(\"Best MSE: \", -grid_search.best_score_)\n",
        "\n",
        "# Evaluate the best model on the test data\n",
        "best_model = grid_search.best_estimator_\n",
        "test_prediction = best_model.predict(testsX)\n",
        "test_mse = mean_squared_error(testsY, test_prediction)\n",
        "print(\"Test MSE for the best model: \", test_mse)"
      ]
    },
    {
      "cell_type": "code",
      "source": [
        "def build_hypermodel(hp):\n",
        "  model = Sequential()\n",
        "  model.add(LSTM(units=hp.Int('units', min_value=50, max_value=150, step=50),\n",
        "                   input_shape=(trainnX.shape[1], trainnX.shape[2])))\n",
        "  model.add(Dense(1))\n",
        "  model.compile(loss='mean_squared_error', optimizer='adam')\n",
        "  return model\n",
        "\n",
        "tuner = kt.RandomSearch(build_hypermodel,\n",
        "                     objective='val_loss',\n",
        "                     max_trials=10,\n",
        "                     executions_per_trial=1,\n",
        "                     directory='tuning_dir',\n",
        "                     project_name='lstm_tuning')\n",
        "\n",
        "tuner.search(trainnX, trainnY, epochs=30, validation_split=0.2,)\n",
        "best_hps = tuner.get_best_hyperparameters(num_trials=1)[0]\n",
        "best_model = tuner.hypermodel.build(best_hps)\n",
        "best_model.fit(trainnX, trainnY, epochs=30, validation_split=0.2)\n",
        "\n",
        "# Evaluate the best model on the test data\n",
        "test_prediction = best_model.predict(testsX)\n",
        "test_mse = mean_squared_error(testsY, test_prediction)\n",
        "print(\"Test MSE for the best model: \", test_mse)"
      ],
      "metadata": {
        "colab": {
          "base_uri": "https://localhost:8080/"
        },
        "id": "xm-YGOKwF0rN",
        "outputId": "ae1cc0ff-8581-4752-fc4a-ec0fcfa22c02"
      },
      "execution_count": 43,
      "outputs": [
        {
          "output_type": "stream",
          "name": "stdout",
          "text": [
            "Reloading Tuner from tuning_dir/lstm_tuning/tuner0.json\n",
            "Epoch 1/30\n"
          ]
        },
        {
          "output_type": "stream",
          "name": "stderr",
          "text": [
            "/usr/local/lib/python3.10/dist-packages/keras/src/layers/rnn/rnn.py:204: UserWarning: Do not pass an `input_shape`/`input_dim` argument to a layer. When using Sequential models, prefer using an `Input(shape)` object as the first layer in the model instead.\n",
            "  super().__init__(**kwargs)\n"
          ]
        },
        {
          "output_type": "stream",
          "name": "stdout",
          "text": [
            "\u001b[1m10/10\u001b[0m \u001b[32m━━━━━━━━━━━━━━━━━━━━\u001b[0m\u001b[37m\u001b[0m \u001b[1m1s\u001b[0m 28ms/step - loss: 0.1250 - val_loss: 0.0336\n",
            "Epoch 2/30\n",
            "\u001b[1m10/10\u001b[0m \u001b[32m━━━━━━━━━━━━━━━━━━━━\u001b[0m\u001b[37m\u001b[0m \u001b[1m0s\u001b[0m 10ms/step - loss: 0.0254 - val_loss: 0.0056\n",
            "Epoch 3/30\n",
            "\u001b[1m10/10\u001b[0m \u001b[32m━━━━━━━━━━━━━━━━━━━━\u001b[0m\u001b[37m\u001b[0m \u001b[1m0s\u001b[0m 8ms/step - loss: 0.0119 - val_loss: 0.0053\n",
            "Epoch 4/30\n",
            "\u001b[1m10/10\u001b[0m \u001b[32m━━━━━━━━━━━━━━━━━━━━\u001b[0m\u001b[37m\u001b[0m \u001b[1m0s\u001b[0m 10ms/step - loss: 0.0083 - val_loss: 0.0080\n",
            "Epoch 5/30\n",
            "\u001b[1m10/10\u001b[0m \u001b[32m━━━━━━━━━━━━━━━━━━━━\u001b[0m\u001b[37m\u001b[0m \u001b[1m0s\u001b[0m 9ms/step - loss: 0.0083 - val_loss: 0.0053\n",
            "Epoch 6/30\n",
            "\u001b[1m10/10\u001b[0m \u001b[32m━━━━━━━━━━━━━━━━━━━━\u001b[0m\u001b[37m\u001b[0m \u001b[1m0s\u001b[0m 8ms/step - loss: 0.0075 - val_loss: 0.0053\n",
            "Epoch 7/30\n",
            "\u001b[1m10/10\u001b[0m \u001b[32m━━━━━━━━━━━━━━━━━━━━\u001b[0m\u001b[37m\u001b[0m \u001b[1m0s\u001b[0m 8ms/step - loss: 0.0070 - val_loss: 0.0054\n",
            "Epoch 8/30\n",
            "\u001b[1m10/10\u001b[0m \u001b[32m━━━━━━━━━━━━━━━━━━━━\u001b[0m\u001b[37m\u001b[0m \u001b[1m0s\u001b[0m 8ms/step - loss: 0.0073 - val_loss: 0.0051\n",
            "Epoch 9/30\n",
            "\u001b[1m10/10\u001b[0m \u001b[32m━━━━━━━━━━━━━━━━━━━━\u001b[0m\u001b[37m\u001b[0m \u001b[1m0s\u001b[0m 10ms/step - loss: 0.0066 - val_loss: 0.0050\n",
            "Epoch 10/30\n",
            "\u001b[1m10/10\u001b[0m \u001b[32m━━━━━━━━━━━━━━━━━━━━\u001b[0m\u001b[37m\u001b[0m \u001b[1m0s\u001b[0m 9ms/step - loss: 0.0066 - val_loss: 0.0050\n",
            "Epoch 11/30\n",
            "\u001b[1m10/10\u001b[0m \u001b[32m━━━━━━━━━━━━━━━━━━━━\u001b[0m\u001b[37m\u001b[0m \u001b[1m0s\u001b[0m 8ms/step - loss: 0.0077 - val_loss: 0.0049\n",
            "Epoch 12/30\n",
            "\u001b[1m10/10\u001b[0m \u001b[32m━━━━━━━━━━━━━━━━━━━━\u001b[0m\u001b[37m\u001b[0m \u001b[1m0s\u001b[0m 9ms/step - loss: 0.0067 - val_loss: 0.0049\n",
            "Epoch 13/30\n",
            "\u001b[1m10/10\u001b[0m \u001b[32m━━━━━━━━━━━━━━━━━━━━\u001b[0m\u001b[37m\u001b[0m \u001b[1m0s\u001b[0m 11ms/step - loss: 0.0056 - val_loss: 0.0047\n",
            "Epoch 14/30\n",
            "\u001b[1m10/10\u001b[0m \u001b[32m━━━━━━━━━━━━━━━━━━━━\u001b[0m\u001b[37m\u001b[0m \u001b[1m0s\u001b[0m 8ms/step - loss: 0.0077 - val_loss: 0.0047\n",
            "Epoch 15/30\n",
            "\u001b[1m10/10\u001b[0m \u001b[32m━━━━━━━━━━━━━━━━━━━━\u001b[0m\u001b[37m\u001b[0m \u001b[1m0s\u001b[0m 10ms/step - loss: 0.0067 - val_loss: 0.0046\n",
            "Epoch 16/30\n",
            "\u001b[1m10/10\u001b[0m \u001b[32m━━━━━━━━━━━━━━━━━━━━\u001b[0m\u001b[37m\u001b[0m \u001b[1m0s\u001b[0m 11ms/step - loss: 0.0061 - val_loss: 0.0045\n",
            "Epoch 17/30\n",
            "\u001b[1m10/10\u001b[0m \u001b[32m━━━━━━━━━━━━━━━━━━━━\u001b[0m\u001b[37m\u001b[0m \u001b[1m0s\u001b[0m 10ms/step - loss: 0.0063 - val_loss: 0.0049\n",
            "Epoch 18/30\n",
            "\u001b[1m10/10\u001b[0m \u001b[32m━━━━━━━━━━━━━━━━━━━━\u001b[0m\u001b[37m\u001b[0m \u001b[1m0s\u001b[0m 8ms/step - loss: 0.0062 - val_loss: 0.0044\n",
            "Epoch 19/30\n",
            "\u001b[1m10/10\u001b[0m \u001b[32m━━━━━━━━━━━━━━━━━━━━\u001b[0m\u001b[37m\u001b[0m \u001b[1m0s\u001b[0m 8ms/step - loss: 0.0058 - val_loss: 0.0044\n",
            "Epoch 20/30\n",
            "\u001b[1m10/10\u001b[0m \u001b[32m━━━━━━━━━━━━━━━━━━━━\u001b[0m\u001b[37m\u001b[0m \u001b[1m0s\u001b[0m 10ms/step - loss: 0.0059 - val_loss: 0.0044\n",
            "Epoch 21/30\n",
            "\u001b[1m10/10\u001b[0m \u001b[32m━━━━━━━━━━━━━━━━━━━━\u001b[0m\u001b[37m\u001b[0m \u001b[1m0s\u001b[0m 9ms/step - loss: 0.0049 - val_loss: 0.0043\n",
            "Epoch 22/30\n",
            "\u001b[1m10/10\u001b[0m \u001b[32m━━━━━━━━━━━━━━━━━━━━\u001b[0m\u001b[37m\u001b[0m \u001b[1m0s\u001b[0m 10ms/step - loss: 0.0054 - val_loss: 0.0047\n",
            "Epoch 23/30\n",
            "\u001b[1m10/10\u001b[0m \u001b[32m━━━━━━━━━━━━━━━━━━━━\u001b[0m\u001b[37m\u001b[0m \u001b[1m0s\u001b[0m 9ms/step - loss: 0.0070 - val_loss: 0.0044\n",
            "Epoch 24/30\n",
            "\u001b[1m10/10\u001b[0m \u001b[32m━━━━━━━━━━━━━━━━━━━━\u001b[0m\u001b[37m\u001b[0m \u001b[1m0s\u001b[0m 10ms/step - loss: 0.0056 - val_loss: 0.0042\n",
            "Epoch 25/30\n",
            "\u001b[1m10/10\u001b[0m \u001b[32m━━━━━━━━━━━━━━━━━━━━\u001b[0m\u001b[37m\u001b[0m \u001b[1m0s\u001b[0m 8ms/step - loss: 0.0057 - val_loss: 0.0047\n",
            "Epoch 26/30\n",
            "\u001b[1m10/10\u001b[0m \u001b[32m━━━━━━━━━━━━━━━━━━━━\u001b[0m\u001b[37m\u001b[0m \u001b[1m0s\u001b[0m 9ms/step - loss: 0.0049 - val_loss: 0.0042\n",
            "Epoch 27/30\n",
            "\u001b[1m10/10\u001b[0m \u001b[32m━━━━━━━━━━━━━━━━━━━━\u001b[0m\u001b[37m\u001b[0m \u001b[1m0s\u001b[0m 9ms/step - loss: 0.0060 - val_loss: 0.0043\n",
            "Epoch 28/30\n",
            "\u001b[1m10/10\u001b[0m \u001b[32m━━━━━━━━━━━━━━━━━━━━\u001b[0m\u001b[37m\u001b[0m \u001b[1m0s\u001b[0m 8ms/step - loss: 0.0055 - val_loss: 0.0043\n",
            "Epoch 29/30\n",
            "\u001b[1m10/10\u001b[0m \u001b[32m━━━━━━━━━━━━━━━━━━━━\u001b[0m\u001b[37m\u001b[0m \u001b[1m0s\u001b[0m 11ms/step - loss: 0.0047 - val_loss: 0.0041\n",
            "Epoch 30/30\n",
            "\u001b[1m10/10\u001b[0m \u001b[32m━━━━━━━━━━━━━━━━━━━━\u001b[0m\u001b[37m\u001b[0m \u001b[1m0s\u001b[0m 10ms/step - loss: 0.0048 - val_loss: 0.0042\n",
            "\u001b[1m3/3\u001b[0m \u001b[32m━━━━━━━━━━━━━━━━━━━━\u001b[0m\u001b[37m\u001b[0m \u001b[1m0s\u001b[0m 49ms/step\n",
            "Test MSE for the best model:  0.011855390105172009\n"
          ]
        }
      ]
    },
    {
      "cell_type": "code",
      "execution_count": 44,
      "metadata": {
        "id": "ueJMix_OgOsC",
        "colab": {
          "base_uri": "https://localhost:8080/"
        },
        "outputId": "6ed4692e-5ea5-48d1-f48e-6576a8cfc0d4"
      },
      "outputs": [
        {
          "output_type": "stream",
          "name": "stdout",
          "text": [
            "prediction\n",
            " [[0.5843017 ]\n",
            " [0.56789726]\n",
            " [0.5397201 ]\n",
            " [0.52820224]\n",
            " [0.51030475]\n",
            " [0.53887415]\n",
            " [0.56216866]\n",
            " [0.54235667]\n",
            " [0.53593546]\n",
            " [0.53386354]\n",
            " [0.55544794]\n",
            " [0.56953436]\n",
            " [0.56256235]\n",
            " [0.5355044 ]\n",
            " [0.5228551 ]\n",
            " [0.51056385]\n",
            " [0.4983519 ]\n",
            " [0.49590677]\n",
            " [0.4853944 ]\n",
            " [0.48593098]\n",
            " [0.529839  ]\n",
            " [0.580029  ]\n",
            " [0.6353897 ]\n",
            " [0.64830595]\n",
            " [0.64154375]\n",
            " [0.621619  ]\n",
            " [0.6096986 ]\n",
            " [0.6004846 ]\n",
            " [0.599889  ]\n",
            " [0.61134094]\n",
            " [0.60929704]\n",
            " [0.61660296]\n",
            " [0.61043537]\n",
            " [0.62290907]\n",
            " [0.62665355]\n",
            " [0.657376  ]\n",
            " [0.6759585 ]\n",
            " [0.68179804]\n",
            " [0.6681879 ]\n",
            " [0.64262724]\n",
            " [0.6086348 ]\n",
            " [0.57066065]\n",
            " [0.523853  ]\n",
            " [0.4682944 ]\n",
            " [0.4273112 ]\n",
            " [0.3528868 ]\n",
            " [0.26227134]\n",
            " [0.18861032]\n",
            " [0.12193674]\n",
            " [0.176286  ]\n",
            " [0.23890246]\n",
            " [0.24486612]\n",
            " [0.27258778]\n",
            " [0.27366945]\n",
            " [0.2381179 ]\n",
            " [0.21424103]\n",
            " [0.19836283]\n",
            " [0.20150761]\n",
            " [0.20447803]\n",
            " [0.19311489]\n",
            " [0.18356723]\n",
            " [0.17646107]\n",
            " [0.20903632]\n",
            " [0.25214195]\n",
            " [0.26571023]\n",
            " [0.32173082]\n",
            " [0.34081715]\n",
            " [0.24965982]\n",
            " [0.20174977]\n",
            " [0.17437735]\n",
            " [0.19319843]\n",
            " [0.24960026]\n",
            " [0.29348505]\n",
            " [0.35027155]\n",
            " [0.41122812]\n",
            " [0.46815267]\n",
            " [0.5246923 ]\n",
            " [0.5796338 ]\n",
            " [0.6363495 ]\n",
            " [0.6826213 ]\n",
            " [0.7140242 ]\n",
            " [0.70705205]\n",
            " [0.70486647]\n",
            " [0.6836799 ]\n",
            " [0.67755294]\n",
            " [0.662139  ]\n",
            " [0.6600542 ]\n",
            " [0.6430983 ]]\n",
            "\n",
            "Prediction Shape- (88, 1)\n"
          ]
        }
      ],
      "source": [
        "print(\"prediction\\n\", test_prediction)\n",
        "print(\"\\nPrediction Shape-\",test_prediction.shape)"
      ]
    },
    {
      "cell_type": "code",
      "execution_count": 45,
      "metadata": {
        "id": "clpaPN6Gg5Ax",
        "colab": {
          "base_uri": "https://localhost:8080/"
        },
        "outputId": "8dd8c827-067d-42a4-f0f9-96c108154218"
      },
      "outputs": [
        {
          "output_type": "execute_result",
          "data": {
            "text/plain": [
              "array([[0.5843017 , 0.5843017 , 0.5843017 , 0.5843017 ],\n",
              "       [0.56789726, 0.56789726, 0.56789726, 0.56789726],\n",
              "       [0.5397201 , 0.5397201 , 0.5397201 , 0.5397201 ],\n",
              "       [0.52820224, 0.52820224, 0.52820224, 0.52820224],\n",
              "       [0.51030475, 0.51030475, 0.51030475, 0.51030475],\n",
              "       [0.53887415, 0.53887415, 0.53887415, 0.53887415],\n",
              "       [0.56216866, 0.56216866, 0.56216866, 0.56216866],\n",
              "       [0.54235667, 0.54235667, 0.54235667, 0.54235667],\n",
              "       [0.53593546, 0.53593546, 0.53593546, 0.53593546],\n",
              "       [0.53386354, 0.53386354, 0.53386354, 0.53386354],\n",
              "       [0.55544794, 0.55544794, 0.55544794, 0.55544794],\n",
              "       [0.56953436, 0.56953436, 0.56953436, 0.56953436],\n",
              "       [0.56256235, 0.56256235, 0.56256235, 0.56256235],\n",
              "       [0.5355044 , 0.5355044 , 0.5355044 , 0.5355044 ],\n",
              "       [0.5228551 , 0.5228551 , 0.5228551 , 0.5228551 ],\n",
              "       [0.51056385, 0.51056385, 0.51056385, 0.51056385],\n",
              "       [0.4983519 , 0.4983519 , 0.4983519 , 0.4983519 ],\n",
              "       [0.49590677, 0.49590677, 0.49590677, 0.49590677],\n",
              "       [0.4853944 , 0.4853944 , 0.4853944 , 0.4853944 ],\n",
              "       [0.48593098, 0.48593098, 0.48593098, 0.48593098],\n",
              "       [0.529839  , 0.529839  , 0.529839  , 0.529839  ],\n",
              "       [0.580029  , 0.580029  , 0.580029  , 0.580029  ],\n",
              "       [0.6353897 , 0.6353897 , 0.6353897 , 0.6353897 ],\n",
              "       [0.64830595, 0.64830595, 0.64830595, 0.64830595],\n",
              "       [0.64154375, 0.64154375, 0.64154375, 0.64154375],\n",
              "       [0.621619  , 0.621619  , 0.621619  , 0.621619  ],\n",
              "       [0.6096986 , 0.6096986 , 0.6096986 , 0.6096986 ],\n",
              "       [0.6004846 , 0.6004846 , 0.6004846 , 0.6004846 ],\n",
              "       [0.599889  , 0.599889  , 0.599889  , 0.599889  ],\n",
              "       [0.61134094, 0.61134094, 0.61134094, 0.61134094],\n",
              "       [0.60929704, 0.60929704, 0.60929704, 0.60929704],\n",
              "       [0.61660296, 0.61660296, 0.61660296, 0.61660296],\n",
              "       [0.61043537, 0.61043537, 0.61043537, 0.61043537],\n",
              "       [0.62290907, 0.62290907, 0.62290907, 0.62290907],\n",
              "       [0.62665355, 0.62665355, 0.62665355, 0.62665355],\n",
              "       [0.657376  , 0.657376  , 0.657376  , 0.657376  ],\n",
              "       [0.6759585 , 0.6759585 , 0.6759585 , 0.6759585 ],\n",
              "       [0.68179804, 0.68179804, 0.68179804, 0.68179804],\n",
              "       [0.6681879 , 0.6681879 , 0.6681879 , 0.6681879 ],\n",
              "       [0.64262724, 0.64262724, 0.64262724, 0.64262724],\n",
              "       [0.6086348 , 0.6086348 , 0.6086348 , 0.6086348 ],\n",
              "       [0.57066065, 0.57066065, 0.57066065, 0.57066065],\n",
              "       [0.523853  , 0.523853  , 0.523853  , 0.523853  ],\n",
              "       [0.4682944 , 0.4682944 , 0.4682944 , 0.4682944 ],\n",
              "       [0.4273112 , 0.4273112 , 0.4273112 , 0.4273112 ],\n",
              "       [0.3528868 , 0.3528868 , 0.3528868 , 0.3528868 ],\n",
              "       [0.26227134, 0.26227134, 0.26227134, 0.26227134],\n",
              "       [0.18861032, 0.18861032, 0.18861032, 0.18861032],\n",
              "       [0.12193674, 0.12193674, 0.12193674, 0.12193674],\n",
              "       [0.176286  , 0.176286  , 0.176286  , 0.176286  ],\n",
              "       [0.23890246, 0.23890246, 0.23890246, 0.23890246],\n",
              "       [0.24486612, 0.24486612, 0.24486612, 0.24486612],\n",
              "       [0.27258778, 0.27258778, 0.27258778, 0.27258778],\n",
              "       [0.27366945, 0.27366945, 0.27366945, 0.27366945],\n",
              "       [0.2381179 , 0.2381179 , 0.2381179 , 0.2381179 ],\n",
              "       [0.21424103, 0.21424103, 0.21424103, 0.21424103],\n",
              "       [0.19836283, 0.19836283, 0.19836283, 0.19836283],\n",
              "       [0.20150761, 0.20150761, 0.20150761, 0.20150761],\n",
              "       [0.20447803, 0.20447803, 0.20447803, 0.20447803],\n",
              "       [0.19311489, 0.19311489, 0.19311489, 0.19311489],\n",
              "       [0.18356723, 0.18356723, 0.18356723, 0.18356723],\n",
              "       [0.17646107, 0.17646107, 0.17646107, 0.17646107],\n",
              "       [0.20903632, 0.20903632, 0.20903632, 0.20903632],\n",
              "       [0.25214195, 0.25214195, 0.25214195, 0.25214195],\n",
              "       [0.26571023, 0.26571023, 0.26571023, 0.26571023],\n",
              "       [0.32173082, 0.32173082, 0.32173082, 0.32173082],\n",
              "       [0.34081715, 0.34081715, 0.34081715, 0.34081715],\n",
              "       [0.24965982, 0.24965982, 0.24965982, 0.24965982],\n",
              "       [0.20174977, 0.20174977, 0.20174977, 0.20174977],\n",
              "       [0.17437735, 0.17437735, 0.17437735, 0.17437735],\n",
              "       [0.19319843, 0.19319843, 0.19319843, 0.19319843],\n",
              "       [0.24960026, 0.24960026, 0.24960026, 0.24960026],\n",
              "       [0.29348505, 0.29348505, 0.29348505, 0.29348505],\n",
              "       [0.35027155, 0.35027155, 0.35027155, 0.35027155],\n",
              "       [0.41122812, 0.41122812, 0.41122812, 0.41122812],\n",
              "       [0.46815267, 0.46815267, 0.46815267, 0.46815267],\n",
              "       [0.5246923 , 0.5246923 , 0.5246923 , 0.5246923 ],\n",
              "       [0.5796338 , 0.5796338 , 0.5796338 , 0.5796338 ],\n",
              "       [0.6363495 , 0.6363495 , 0.6363495 , 0.6363495 ],\n",
              "       [0.6826213 , 0.6826213 , 0.6826213 , 0.6826213 ],\n",
              "       [0.7140242 , 0.7140242 , 0.7140242 , 0.7140242 ],\n",
              "       [0.70705205, 0.70705205, 0.70705205, 0.70705205],\n",
              "       [0.70486647, 0.70486647, 0.70486647, 0.70486647],\n",
              "       [0.6836799 , 0.6836799 , 0.6836799 , 0.6836799 ],\n",
              "       [0.67755294, 0.67755294, 0.67755294, 0.67755294],\n",
              "       [0.662139  , 0.662139  , 0.662139  , 0.662139  ],\n",
              "       [0.6600542 , 0.6600542 , 0.6600542 , 0.6600542 ],\n",
              "       [0.6430983 , 0.6430983 , 0.6430983 , 0.6430983 ]], dtype=float32)"
            ]
          },
          "metadata": {},
          "execution_count": 45
        }
      ],
      "source": [
        "prediction_copy_array = np.repeat(test_prediction,4, axis=-1)\n",
        "prediction_copy_array.shape\n",
        "\n",
        "prediction_copy_array"
      ]
    },
    {
      "cell_type": "code",
      "execution_count": 46,
      "metadata": {
        "id": "CJ_J29kVhSZ7",
        "colab": {
          "base_uri": "https://localhost:8080/"
        },
        "outputId": "56cb4ae5-1509-4b42-d2fc-816f10daf038"
      },
      "outputs": [
        {
          "output_type": "execute_result",
          "data": {
            "text/plain": [
              "array([3768.11  , 3757.7751, 3740.0237, 3732.7676, 3721.492 , 3739.4907,\n",
              "       3754.1663, 3741.6848, 3737.6392, 3736.334 , 3749.9321, 3758.8066,\n",
              "       3754.4143, 3737.3677, 3729.3987, 3721.6553, 3713.9617, 3712.4211,\n",
              "       3705.7986, 3706.1365, 3733.7986, 3765.4182, 3800.2954, 3808.4326,\n",
              "       3804.1726, 3791.62  , 3784.11  , 3778.3054, 3777.9302, 3785.1448,\n",
              "       3783.8572, 3788.4597, 3784.5742, 3792.4326, 3794.7917, 3814.147 ,\n",
              "       3825.854 , 3829.5327, 3820.9585, 3804.8552, 3783.44  , 3759.516 ,\n",
              "       3730.0276, 3695.0256, 3669.206 , 3622.3186, 3565.231 , 3518.8247,\n",
              "       3476.82  , 3511.0603, 3550.5085, 3554.2659, 3571.7302, 3572.4119,\n",
              "       3550.0144, 3534.9717, 3524.9685, 3526.9497, 3528.8213, 3521.6624,\n",
              "       3515.6475, 3511.1704, 3531.6929, 3558.8494, 3567.3975, 3602.6904,\n",
              "       3614.7148, 3557.2856, 3527.1023, 3509.8577, 3521.715 , 3557.2483,\n",
              "       3584.8955, 3620.6711, 3659.0737, 3694.936 , 3730.5562, 3765.1692,\n",
              "       3800.9001, 3830.0515, 3849.8352, 3845.4429, 3844.0657, 3830.7183,\n",
              "       3826.8584, 3817.1475, 3815.834 , 3805.1519], dtype=float32)"
            ]
          },
          "metadata": {},
          "execution_count": 46
        }
      ],
      "source": [
        "predict=scaler.inverse_transform(np.reshape(prediction_copy_array,(len(test_prediction),4)))[:,0]\n",
        "predict"
      ]
    },
    {
      "cell_type": "code",
      "execution_count": 47,
      "metadata": {
        "id": "ZJhpBl8hFaiu"
      },
      "outputs": [],
      "source": [
        "n_future = 31\n",
        "predicted_dates = pd.date_range(start=data.index[-1], periods=n_future + 1, freq='B')[1:]\n",
        "predicted_data = pd.DataFrame(index=predicted_dates, columns=['Predicted_Close'])\n",
        "predicted_data['Predicted_Close'] = predict[-n_future:].flatten()"
      ]
    },
    {
      "cell_type": "code",
      "execution_count": 48,
      "metadata": {
        "id": "bTPobgvNGf09",
        "colab": {
          "base_uri": "https://localhost:8080/"
        },
        "outputId": "168cba82-83c4-4fa6-af3b-8da7c0b57bbe"
      },
      "outputs": [
        {
          "output_type": "stream",
          "name": "stdout",
          "text": [
            "            Predicted_Close\n",
            "2023-11-14      3526.949707\n",
            "2023-11-15      3528.821289\n",
            "2023-11-16      3521.662354\n",
            "2023-11-17      3515.647461\n",
            "2023-11-20      3511.170410\n",
            "2023-11-21      3531.692871\n",
            "2023-11-22      3558.849365\n",
            "2023-11-23      3567.397461\n",
            "2023-11-24      3602.690430\n",
            "2023-11-27      3614.714844\n",
            "2023-11-28      3557.285645\n",
            "2023-11-29      3527.102295\n",
            "2023-11-30      3509.857666\n",
            "2023-12-01      3521.715088\n",
            "2023-12-04      3557.248291\n",
            "2023-12-05      3584.895508\n",
            "2023-12-06      3620.671143\n",
            "2023-12-07      3659.073730\n",
            "2023-12-08      3694.936035\n",
            "2023-12-11      3730.556152\n",
            "2023-12-12      3765.169189\n",
            "2023-12-13      3800.900146\n",
            "2023-12-14      3830.051514\n",
            "2023-12-15      3849.835205\n",
            "2023-12-18      3845.442871\n",
            "2023-12-19      3844.065674\n",
            "2023-12-20      3830.718262\n",
            "2023-12-21      3826.858398\n",
            "2023-12-22      3817.147461\n",
            "2023-12-25      3815.833984\n",
            "2023-12-26      3805.151855\n"
          ]
        }
      ],
      "source": [
        "print(predicted_data)"
      ]
    },
    {
      "cell_type": "code",
      "execution_count": 49,
      "metadata": {
        "id": "RLlIEh4niMUk",
        "colab": {
          "base_uri": "https://localhost:8080/",
          "height": 564
        },
        "outputId": "9ac1e735-cede-4737-a5cd-fc6f455ff844"
      },
      "outputs": [
        {
          "output_type": "display_data",
          "data": {
            "text/plain": [
              "<Figure size 1200x600 with 1 Axes>"
            ],
            "image/png": "[encoded data removed]"
          },
          "metadata": {}
        }
      ],
      "source": [
        "# Plot the range by date\n",
        "plt.figure(figsize=(12, 6))\n",
        "plt.plot(predicted_data.index[-len(predicted_data):], predicted_data, color='blue', label='Predicted Stock Price')\n",
        "plt.title('Stock Price Forecasting')\n",
        "plt.xlabel('Date')\n",
        "plt.ylabel('Stock Price')\n",
        "plt.legend()\n",
        "plt.grid(True)\n",
        "plt.show()"
      ]
    }
  ],
  "metadata": {
    "accelerator": "GPU",
    "colab": {
      "provenance": [],
      "include_colab_link": true
    },
    "kernelspec": {
      "display_name": "Python 3",
      "name": "python3"
    },
    "language_info": {
      "name": "python"
    }
  },
  "nbformat": 4,
  "nbformat_minor": 0
}